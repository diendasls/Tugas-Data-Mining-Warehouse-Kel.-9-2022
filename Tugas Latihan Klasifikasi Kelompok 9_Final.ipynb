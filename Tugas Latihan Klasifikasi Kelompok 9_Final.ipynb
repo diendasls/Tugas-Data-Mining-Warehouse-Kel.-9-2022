{
 "cells": [
  {
   "cell_type": "markdown",
   "id": "89935e24",
   "metadata": {},
   "source": [
    "## Tugas Klasifikasi Kelompok 9\n",
    "\n",
    "Anggota kelompok :\n",
    "- Adinda Salsabilla (2005319)\n",
    "- Alif Faturahman Firdaus (2107377)\n",
    "- Farah Balqist (2007339)\n",
    "- Sukma Julianti (2009110)\n",
    "- Wildan Mauli Darojat (2106330)"
   ]
  },
  {
   "cell_type": "markdown",
   "id": "89159e19",
   "metadata": {},
   "source": [
    "## Sumber dataset\n",
    "\n",
    "Data yang kami gunakan di dapat dari : https://drive.google.com/file/d/1OE1ABaGjzkbUjqT5DsgkLAQCvZ3NGuU4/view?usp=sharing"
   ]
  },
  {
   "cell_type": "markdown",
   "id": "44e9b650",
   "metadata": {},
   "source": [
    "## Task\n",
    "Memprediksi apakah setelah membeli customer akan mengembalikan barang (di Eropa ada perlindungan konsumen yang membuat konsumen dapat mengembalikan barang tanpa alasan asal dalam periode tertentu). Pengembalian barang yang berlebih dapat merugikan pemilik toko.\n",
    "\n",
    "Terdapat 481000 data transaksi yang dapat digunakan untuk membuat model. Atribut target (yang akan diprediksi) adalah \"returnShipment\" (atribut terakhir) yang bernilai 0 jika item disimpan pembeli dan bernilai 1 jika item dikembalikan. \n",
    "\n",
    "Yang harus dilakukan: \n",
    "1. Lakukan praproses dan EDA (exploratory data analysis) terhadap data ini, tuliskan analisis di dalam notebook.\n",
    "2. Buat model berdasarkan data train (orders_train), coba berbagai model, ukur kinerja tiap model. Lakukan utak-atik \n",
    "3. Buat prediksi. Terdapat 50000 data yang harus diprediksi (returnShimpemnt) yang disimpan di orders_class.txt"
   ]
  },
  {
   "cell_type": "markdown",
   "id": "ab235c0d",
   "metadata": {},
   "source": [
    "## Penjelasan Fitur\n",
    "- orderItemID: id order\n",
    "- orderDate: tanggal pemesanan\n",
    "- itemID: id item\n",
    "- color: warna item\n",
    "- price: harga item\n",
    "- salutation: panggilan customer (Mr, Mrs)\n",
    "- state: wilayah\n",
    "- deliveryDate: tanggal penyerahan\n",
    "- size: ukuran item\n",
    "- manufacturerID: id pembuat item\n",
    "- customerID: id customer\n",
    "- dateOfBirth: tanggal lahir customer\n",
    "- creationDate: tanggal pembuatan account\n",
    "- returnShipment: apakah akan dikembalikan, 1: dikembalikan; 0 tidak"
   ]
  },
  {
   "cell_type": "markdown",
   "id": "c4d57b6c",
   "metadata": {},
   "source": [
    "## Praproses Dataset order_train.csv"
   ]
  },
  {
   "cell_type": "markdown",
   "id": "250d7a7d",
   "metadata": {},
   "source": [
    "### Import Library"
   ]
  },
  {
   "cell_type": "code",
   "execution_count": 1,
   "id": "55892b2a",
   "metadata": {},
   "outputs": [],
   "source": [
    "%matplotlib inline\n",
    "import numpy as np                  \n",
    "import pandas as pd                 \n",
    "import matplotlib.pyplot as plt     \n",
    "import seaborn as sns\n",
    "import joblib\n",
    "from datetime import datetime, date"
   ]
  },
  {
   "cell_type": "markdown",
   "id": "d579d34d",
   "metadata": {},
   "source": [
    "### Load Dataset"
   ]
  },
  {
   "cell_type": "code",
   "execution_count": 2,
   "id": "6262a0d9",
   "metadata": {
    "scrolled": true
   },
   "outputs": [
    {
     "data": {
      "text/html": [
       "<div>\n",
       "<style scoped>\n",
       "    .dataframe tbody tr th:only-of-type {\n",
       "        vertical-align: middle;\n",
       "    }\n",
       "\n",
       "    .dataframe tbody tr th {\n",
       "        vertical-align: top;\n",
       "    }\n",
       "\n",
       "    .dataframe thead th {\n",
       "        text-align: right;\n",
       "    }\n",
       "</style>\n",
       "<table border=\"1\" class=\"dataframe\">\n",
       "  <thead>\n",
       "    <tr style=\"text-align: right;\">\n",
       "      <th></th>\n",
       "      <th>orderItemID</th>\n",
       "      <th>orderDate</th>\n",
       "      <th>deliveryDate</th>\n",
       "      <th>itemID</th>\n",
       "      <th>size</th>\n",
       "      <th>color</th>\n",
       "      <th>manufacturerID</th>\n",
       "      <th>price</th>\n",
       "      <th>customerID</th>\n",
       "      <th>salutation</th>\n",
       "      <th>dateOfBirth</th>\n",
       "      <th>state</th>\n",
       "      <th>creationDate</th>\n",
       "      <th>returnShipment</th>\n",
       "    </tr>\n",
       "  </thead>\n",
       "  <tbody>\n",
       "    <tr>\n",
       "      <th>0</th>\n",
       "      <td>1</td>\n",
       "      <td>4/1/2012</td>\n",
       "      <td>4/3/2012</td>\n",
       "      <td>186</td>\n",
       "      <td>m</td>\n",
       "      <td>denim</td>\n",
       "      <td>25</td>\n",
       "      <td>69.90</td>\n",
       "      <td>794</td>\n",
       "      <td>Mrs</td>\n",
       "      <td>1/6/1965</td>\n",
       "      <td>Baden-Wuerttemberg</td>\n",
       "      <td>4/25/2011</td>\n",
       "      <td>0</td>\n",
       "    </tr>\n",
       "    <tr>\n",
       "      <th>1</th>\n",
       "      <td>2</td>\n",
       "      <td>4/1/2012</td>\n",
       "      <td>4/3/2012</td>\n",
       "      <td>71</td>\n",
       "      <td>9+</td>\n",
       "      <td>ocher</td>\n",
       "      <td>21</td>\n",
       "      <td>69.95</td>\n",
       "      <td>794</td>\n",
       "      <td>Mrs</td>\n",
       "      <td>1/6/1965</td>\n",
       "      <td>Baden-Wuerttemberg</td>\n",
       "      <td>4/25/2011</td>\n",
       "      <td>1</td>\n",
       "    </tr>\n",
       "    <tr>\n",
       "      <th>2</th>\n",
       "      <td>3</td>\n",
       "      <td>4/1/2012</td>\n",
       "      <td>4/3/2012</td>\n",
       "      <td>71</td>\n",
       "      <td>9+</td>\n",
       "      <td>curry</td>\n",
       "      <td>21</td>\n",
       "      <td>69.95</td>\n",
       "      <td>794</td>\n",
       "      <td>Mrs</td>\n",
       "      <td>1/6/1965</td>\n",
       "      <td>Baden-Wuerttemberg</td>\n",
       "      <td>4/25/2011</td>\n",
       "      <td>1</td>\n",
       "    </tr>\n",
       "    <tr>\n",
       "      <th>3</th>\n",
       "      <td>4</td>\n",
       "      <td>4/2/2012</td>\n",
       "      <td>?</td>\n",
       "      <td>22</td>\n",
       "      <td>m</td>\n",
       "      <td>green</td>\n",
       "      <td>14</td>\n",
       "      <td>39.90</td>\n",
       "      <td>808</td>\n",
       "      <td>Mrs</td>\n",
       "      <td>11/9/1959</td>\n",
       "      <td>Saxony</td>\n",
       "      <td>1/4/2012</td>\n",
       "      <td>0</td>\n",
       "    </tr>\n",
       "    <tr>\n",
       "      <th>4</th>\n",
       "      <td>5</td>\n",
       "      <td>4/2/2012</td>\n",
       "      <td>12/31/1990</td>\n",
       "      <td>151</td>\n",
       "      <td>39</td>\n",
       "      <td>black</td>\n",
       "      <td>53</td>\n",
       "      <td>29.90</td>\n",
       "      <td>825</td>\n",
       "      <td>Mrs</td>\n",
       "      <td>7/11/1964</td>\n",
       "      <td>Rhineland-Palatinate</td>\n",
       "      <td>2/16/2011</td>\n",
       "      <td>0</td>\n",
       "    </tr>\n",
       "  </tbody>\n",
       "</table>\n",
       "</div>"
      ],
      "text/plain": [
       "   orderItemID orderDate deliveryDate  itemID size  color  manufacturerID  \\\n",
       "0            1  4/1/2012     4/3/2012     186    m  denim              25   \n",
       "1            2  4/1/2012     4/3/2012      71   9+  ocher              21   \n",
       "2            3  4/1/2012     4/3/2012      71   9+  curry              21   \n",
       "3            4  4/2/2012            ?      22    m  green              14   \n",
       "4            5  4/2/2012   12/31/1990     151   39  black              53   \n",
       "\n",
       "   price  customerID salutation dateOfBirth                 state  \\\n",
       "0  69.90         794        Mrs    1/6/1965    Baden-Wuerttemberg   \n",
       "1  69.95         794        Mrs    1/6/1965    Baden-Wuerttemberg   \n",
       "2  69.95         794        Mrs    1/6/1965    Baden-Wuerttemberg   \n",
       "3  39.90         808        Mrs   11/9/1959                Saxony   \n",
       "4  29.90         825        Mrs   7/11/1964  Rhineland-Palatinate   \n",
       "\n",
       "  creationDate  returnShipment  \n",
       "0    4/25/2011               0  \n",
       "1    4/25/2011               1  \n",
       "2    4/25/2011               1  \n",
       "3     1/4/2012               0  \n",
       "4    2/16/2011               0  "
      ]
     },
     "execution_count": 2,
     "metadata": {},
     "output_type": "execute_result"
    }
   ],
   "source": [
    "df = pd.read_csv(\"C:\\\\Users\\\\Lenovo\\\\datmin python\\\\orders_train.csv\", sep=\",\", encoding=\"utf-8\")\n",
    "df.head()"
   ]
  },
  {
   "cell_type": "code",
   "execution_count": 3,
   "id": "a096f489",
   "metadata": {},
   "outputs": [
    {
     "name": "stdout",
     "output_type": "stream",
     "text": [
      "<class 'pandas.core.frame.DataFrame'>\n",
      "RangeIndex: 481092 entries, 0 to 481091\n",
      "Data columns (total 14 columns):\n",
      " #   Column          Non-Null Count   Dtype  \n",
      "---  ------          --------------   -----  \n",
      " 0   orderItemID     481092 non-null  int64  \n",
      " 1   orderDate       481092 non-null  object \n",
      " 2   deliveryDate    481092 non-null  object \n",
      " 3   itemID          481092 non-null  int64  \n",
      " 4   size            481092 non-null  object \n",
      " 5   color           481092 non-null  object \n",
      " 6   manufacturerID  481092 non-null  int64  \n",
      " 7   price           481092 non-null  float64\n",
      " 8   customerID      481092 non-null  int64  \n",
      " 9   salutation      481092 non-null  object \n",
      " 10  dateOfBirth     481092 non-null  object \n",
      " 11  state           481092 non-null  object \n",
      " 12  creationDate    481092 non-null  object \n",
      " 13  returnShipment  481092 non-null  int64  \n",
      "dtypes: float64(1), int64(5), object(8)\n",
      "memory usage: 51.4+ MB\n"
     ]
    }
   ],
   "source": [
    "#menampilkan dataframe\n",
    "df.info()"
   ]
  },
  {
   "cell_type": "code",
   "execution_count": 4,
   "id": "706c9f27",
   "metadata": {
    "scrolled": false
   },
   "outputs": [
    {
     "data": {
      "text/plain": [
       "orderItemID       0\n",
       "orderDate         0\n",
       "deliveryDate      0\n",
       "itemID            0\n",
       "size              0\n",
       "color             0\n",
       "manufacturerID    0\n",
       "price             0\n",
       "customerID        0\n",
       "salutation        0\n",
       "dateOfBirth       0\n",
       "state             0\n",
       "creationDate      0\n",
       "returnShipment    0\n",
       "dtype: int64"
      ]
     },
     "execution_count": 4,
     "metadata": {},
     "output_type": "execute_result"
    }
   ],
   "source": [
    "#melihat apakah terdapat value null dalam suatu atribut\n",
    "df.isnull().sum()"
   ]
  },
  {
   "cell_type": "markdown",
   "id": "e2f3298a",
   "metadata": {},
   "source": [
    "### Cek Setiap Kolom yang Memiliki Value '?'"
   ]
  },
  {
   "cell_type": "code",
   "execution_count": 5,
   "id": "7b124b91",
   "metadata": {},
   "outputs": [
    {
     "data": {
      "text/html": [
       "<div>\n",
       "<style scoped>\n",
       "    .dataframe tbody tr th:only-of-type {\n",
       "        vertical-align: middle;\n",
       "    }\n",
       "\n",
       "    .dataframe tbody tr th {\n",
       "        vertical-align: top;\n",
       "    }\n",
       "\n",
       "    .dataframe thead th {\n",
       "        text-align: right;\n",
       "    }\n",
       "</style>\n",
       "<table border=\"1\" class=\"dataframe\">\n",
       "  <thead>\n",
       "    <tr style=\"text-align: right;\">\n",
       "      <th></th>\n",
       "      <th>orderItemID</th>\n",
       "      <th>orderDate</th>\n",
       "      <th>deliveryDate</th>\n",
       "      <th>itemID</th>\n",
       "      <th>size</th>\n",
       "      <th>color</th>\n",
       "      <th>manufacturerID</th>\n",
       "      <th>price</th>\n",
       "      <th>customerID</th>\n",
       "      <th>salutation</th>\n",
       "      <th>dateOfBirth</th>\n",
       "      <th>state</th>\n",
       "      <th>creationDate</th>\n",
       "      <th>returnShipment</th>\n",
       "    </tr>\n",
       "  </thead>\n",
       "  <tbody>\n",
       "    <tr>\n",
       "      <th>141039</th>\n",
       "      <td>141040</td>\n",
       "      <td>7/23/2012</td>\n",
       "      <td>7/24/2012</td>\n",
       "      <td>1904</td>\n",
       "      <td>unsized</td>\n",
       "      <td>?</td>\n",
       "      <td>125</td>\n",
       "      <td>0.0</td>\n",
       "      <td>21343</td>\n",
       "      <td>Mrs</td>\n",
       "      <td>?</td>\n",
       "      <td>North Rhine-Westphalia</td>\n",
       "      <td>5/20/2012</td>\n",
       "      <td>0</td>\n",
       "    </tr>\n",
       "    <tr>\n",
       "      <th>148001</th>\n",
       "      <td>148002</td>\n",
       "      <td>8/2/2012</td>\n",
       "      <td>8/24/2012</td>\n",
       "      <td>2103</td>\n",
       "      <td>unsized</td>\n",
       "      <td>?</td>\n",
       "      <td>125</td>\n",
       "      <td>0.0</td>\n",
       "      <td>20016</td>\n",
       "      <td>Mrs</td>\n",
       "      <td>12/22/1965</td>\n",
       "      <td>Bavaria</td>\n",
       "      <td>2/16/2011</td>\n",
       "      <td>0</td>\n",
       "    </tr>\n",
       "    <tr>\n",
       "      <th>150555</th>\n",
       "      <td>150556</td>\n",
       "      <td>8/4/2012</td>\n",
       "      <td>8/28/2012</td>\n",
       "      <td>2108</td>\n",
       "      <td>unsized</td>\n",
       "      <td>?</td>\n",
       "      <td>125</td>\n",
       "      <td>25.0</td>\n",
       "      <td>39327</td>\n",
       "      <td>Mrs</td>\n",
       "      <td>9/4/1972</td>\n",
       "      <td>Lower Saxony</td>\n",
       "      <td>9/24/2011</td>\n",
       "      <td>0</td>\n",
       "    </tr>\n",
       "    <tr>\n",
       "      <th>150749</th>\n",
       "      <td>150750</td>\n",
       "      <td>8/4/2012</td>\n",
       "      <td>8/28/2012</td>\n",
       "      <td>2108</td>\n",
       "      <td>unsized</td>\n",
       "      <td>?</td>\n",
       "      <td>125</td>\n",
       "      <td>25.0</td>\n",
       "      <td>39374</td>\n",
       "      <td>Mrs</td>\n",
       "      <td>7/1/1971</td>\n",
       "      <td>North Rhine-Westphalia</td>\n",
       "      <td>2/23/2012</td>\n",
       "      <td>0</td>\n",
       "    </tr>\n",
       "    <tr>\n",
       "      <th>154052</th>\n",
       "      <td>154053</td>\n",
       "      <td>8/6/2012</td>\n",
       "      <td>8/29/2012</td>\n",
       "      <td>2108</td>\n",
       "      <td>unsized</td>\n",
       "      <td>?</td>\n",
       "      <td>125</td>\n",
       "      <td>25.0</td>\n",
       "      <td>39848</td>\n",
       "      <td>Mrs</td>\n",
       "      <td>11/24/1958</td>\n",
       "      <td>North Rhine-Westphalia</td>\n",
       "      <td>2/17/2012</td>\n",
       "      <td>0</td>\n",
       "    </tr>\n",
       "    <tr>\n",
       "      <th>...</th>\n",
       "      <td>...</td>\n",
       "      <td>...</td>\n",
       "      <td>...</td>\n",
       "      <td>...</td>\n",
       "      <td>...</td>\n",
       "      <td>...</td>\n",
       "      <td>...</td>\n",
       "      <td>...</td>\n",
       "      <td>...</td>\n",
       "      <td>...</td>\n",
       "      <td>...</td>\n",
       "      <td>...</td>\n",
       "      <td>...</td>\n",
       "      <td>...</td>\n",
       "    </tr>\n",
       "    <tr>\n",
       "      <th>290835</th>\n",
       "      <td>290836</td>\n",
       "      <td>11/29/2012</td>\n",
       "      <td>11/30/2012</td>\n",
       "      <td>2103</td>\n",
       "      <td>unsized</td>\n",
       "      <td>?</td>\n",
       "      <td>125</td>\n",
       "      <td>0.0</td>\n",
       "      <td>33472</td>\n",
       "      <td>Mrs</td>\n",
       "      <td>11/14/1964</td>\n",
       "      <td>Bremen</td>\n",
       "      <td>6/29/2012</td>\n",
       "      <td>0</td>\n",
       "    </tr>\n",
       "    <tr>\n",
       "      <th>295640</th>\n",
       "      <td>295641</td>\n",
       "      <td>12/6/2012</td>\n",
       "      <td>?</td>\n",
       "      <td>1904</td>\n",
       "      <td>unsized</td>\n",
       "      <td>?</td>\n",
       "      <td>125</td>\n",
       "      <td>0.0</td>\n",
       "      <td>60704</td>\n",
       "      <td>Mrs</td>\n",
       "      <td>?</td>\n",
       "      <td>Bavaria</td>\n",
       "      <td>11/1/2012</td>\n",
       "      <td>0</td>\n",
       "    </tr>\n",
       "    <tr>\n",
       "      <th>298168</th>\n",
       "      <td>298169</td>\n",
       "      <td>12/10/2012</td>\n",
       "      <td>12/20/2012</td>\n",
       "      <td>2103</td>\n",
       "      <td>unsized</td>\n",
       "      <td>?</td>\n",
       "      <td>125</td>\n",
       "      <td>0.0</td>\n",
       "      <td>64824</td>\n",
       "      <td>Mrs</td>\n",
       "      <td>6/20/1965</td>\n",
       "      <td>Hesse</td>\n",
       "      <td>2/16/2011</td>\n",
       "      <td>0</td>\n",
       "    </tr>\n",
       "    <tr>\n",
       "      <th>298816</th>\n",
       "      <td>298817</td>\n",
       "      <td>12/11/2012</td>\n",
       "      <td>12/17/2012</td>\n",
       "      <td>2103</td>\n",
       "      <td>unsized</td>\n",
       "      <td>?</td>\n",
       "      <td>125</td>\n",
       "      <td>0.0</td>\n",
       "      <td>8563</td>\n",
       "      <td>Mrs</td>\n",
       "      <td>9/23/1959</td>\n",
       "      <td>Hamburg</td>\n",
       "      <td>5/6/2012</td>\n",
       "      <td>0</td>\n",
       "    </tr>\n",
       "    <tr>\n",
       "      <th>299811</th>\n",
       "      <td>299812</td>\n",
       "      <td>12/12/2012</td>\n",
       "      <td>12/21/2012</td>\n",
       "      <td>2213</td>\n",
       "      <td>unsized</td>\n",
       "      <td>?</td>\n",
       "      <td>137</td>\n",
       "      <td>0.0</td>\n",
       "      <td>45664</td>\n",
       "      <td>Mrs</td>\n",
       "      <td>3/15/1968</td>\n",
       "      <td>Rhineland-Palatinate</td>\n",
       "      <td>2/16/2011</td>\n",
       "      <td>0</td>\n",
       "    </tr>\n",
       "  </tbody>\n",
       "</table>\n",
       "<p>143 rows × 14 columns</p>\n",
       "</div>"
      ],
      "text/plain": [
       "        orderItemID   orderDate deliveryDate  itemID     size color  \\\n",
       "141039       141040   7/23/2012    7/24/2012    1904  unsized     ?   \n",
       "148001       148002    8/2/2012    8/24/2012    2103  unsized     ?   \n",
       "150555       150556    8/4/2012    8/28/2012    2108  unsized     ?   \n",
       "150749       150750    8/4/2012    8/28/2012    2108  unsized     ?   \n",
       "154052       154053    8/6/2012    8/29/2012    2108  unsized     ?   \n",
       "...             ...         ...          ...     ...      ...   ...   \n",
       "290835       290836  11/29/2012   11/30/2012    2103  unsized     ?   \n",
       "295640       295641   12/6/2012            ?    1904  unsized     ?   \n",
       "298168       298169  12/10/2012   12/20/2012    2103  unsized     ?   \n",
       "298816       298817  12/11/2012   12/17/2012    2103  unsized     ?   \n",
       "299811       299812  12/12/2012   12/21/2012    2213  unsized     ?   \n",
       "\n",
       "        manufacturerID  price  customerID salutation dateOfBirth  \\\n",
       "141039             125    0.0       21343        Mrs           ?   \n",
       "148001             125    0.0       20016        Mrs  12/22/1965   \n",
       "150555             125   25.0       39327        Mrs    9/4/1972   \n",
       "150749             125   25.0       39374        Mrs    7/1/1971   \n",
       "154052             125   25.0       39848        Mrs  11/24/1958   \n",
       "...                ...    ...         ...        ...         ...   \n",
       "290835             125    0.0       33472        Mrs  11/14/1964   \n",
       "295640             125    0.0       60704        Mrs           ?   \n",
       "298168             125    0.0       64824        Mrs   6/20/1965   \n",
       "298816             125    0.0        8563        Mrs   9/23/1959   \n",
       "299811             137    0.0       45664        Mrs   3/15/1968   \n",
       "\n",
       "                         state creationDate  returnShipment  \n",
       "141039  North Rhine-Westphalia    5/20/2012               0  \n",
       "148001                 Bavaria    2/16/2011               0  \n",
       "150555            Lower Saxony    9/24/2011               0  \n",
       "150749  North Rhine-Westphalia    2/23/2012               0  \n",
       "154052  North Rhine-Westphalia    2/17/2012               0  \n",
       "...                        ...          ...             ...  \n",
       "290835                  Bremen    6/29/2012               0  \n",
       "295640                 Bavaria    11/1/2012               0  \n",
       "298168                   Hesse    2/16/2011               0  \n",
       "298816                 Hamburg     5/6/2012               0  \n",
       "299811    Rhineland-Palatinate    2/16/2011               0  \n",
       "\n",
       "[143 rows x 14 columns]"
      ]
     },
     "execution_count": 5,
     "metadata": {},
     "output_type": "execute_result"
    }
   ],
   "source": [
    "#buat variabel baru berupa kolom1, kolom2, dan kolom3 untuk menyimpan hasil kolom yang memiliki value '?'\n",
    "kolom1 = df[df['color'] == '?'] \n",
    "kolom2 = df[df['deliveryDate'] == '?'] \n",
    "kolom3 = df[df['dateOfBirth'] == '?'] \n",
    "\n",
    "kolom1 #command untuk menampilkan tabel\n",
    "# kolom2\n",
    "# kolom3"
   ]
  },
  {
   "cell_type": "markdown",
   "id": "ac8d494b",
   "metadata": {},
   "source": [
    "Setelah dicek, terdapat 3 kolom yang memiliki nilai '?'. Kolom 'color', 'deliveryDate', dan 'dateOfBirth'"
   ]
  },
  {
   "cell_type": "markdown",
   "id": "a54708d1",
   "metadata": {},
   "source": [
    "### Menyimpan dan Menampilkan Nilai Modus Kolom 'color', 'deliveryDate', dan 'dateOfBirth'"
   ]
  },
  {
   "cell_type": "code",
   "execution_count": 6,
   "id": "f107e03b",
   "metadata": {},
   "outputs": [
    {
     "name": "stdout",
     "output_type": "stream",
     "text": [
      "0    black\n",
      "Name: color, dtype: object\n",
      "0    ?\n",
      "Name: deliveryDate, dtype: object\n",
      "0    ?\n",
      "Name: dateOfBirth, dtype: object\n"
     ]
    }
   ],
   "source": [
    "#buat variabel untuk menyimpan modus\n",
    "modus_color = df['color'].mode()\n",
    "modus_del_date = df['deliveryDate'].mode()\n",
    "modus_birth = df['dateOfBirth'].mode()\n",
    "\n",
    "#menampilkan modus\n",
    "print(modus_color)\n",
    "print(modus_del_date)\n",
    "print(modus_birth)"
   ]
  },
  {
   "cell_type": "markdown",
   "id": "626a36a3",
   "metadata": {},
   "source": [
    "Kolom 'color' memiliki nilai modus 'black'. Sedangkan kolom 'deliveryDate' dan 'dateOfBirth' memiliki nilai modus '?'"
   ]
  },
  {
   "cell_type": "markdown",
   "id": "cfce1d27",
   "metadata": {},
   "source": [
    "### Replace Karakter '?' Menjadi String Menggunakan Pandas"
   ]
  },
  {
   "cell_type": "code",
   "execution_count": 7,
   "id": "b4e6ecb4",
   "metadata": {
    "scrolled": true
   },
   "outputs": [
    {
     "name": "stderr",
     "output_type": "stream",
     "text": [
      "C:\\Users\\Lenovo\\AppData\\Local\\Temp\\ipykernel_14556\\88975719.py:1: FutureWarning: The default value of regex will change from True to False in a future version. In addition, single character regular expressions will *not* be treated as literal strings when regex=True.\n",
      "  df.color = df.color.str.replace('?', 'String color')\n",
      "C:\\Users\\Lenovo\\AppData\\Local\\Temp\\ipykernel_14556\\88975719.py:2: FutureWarning: The default value of regex will change from True to False in a future version. In addition, single character regular expressions will *not* be treated as literal strings when regex=True.\n",
      "  df.dateOfBirth = df.deliveryDate.str.replace('?', 'String delivery')\n",
      "C:\\Users\\Lenovo\\AppData\\Local\\Temp\\ipykernel_14556\\88975719.py:3: FutureWarning: The default value of regex will change from True to False in a future version. In addition, single character regular expressions will *not* be treated as literal strings when regex=True.\n",
      "  df.deliveryDate = df.dateOfBirth.str.replace('?', 'String birthDate')\n"
     ]
    }
   ],
   "source": [
    "df.color = df.color.str.replace('?', 'String color')\n",
    "df.dateOfBirth = df.deliveryDate.str.replace('?', 'String delivery')\n",
    "df.deliveryDate = df.dateOfBirth.str.replace('?', 'String birthDate')"
   ]
  },
  {
   "cell_type": "markdown",
   "id": "274e2aed",
   "metadata": {},
   "source": [
    "Fungsi replace hanya dapat digunakan untuk string, sedangkan '?' merupakan single character sehingga muncul warning/peringatan"
   ]
  },
  {
   "cell_type": "code",
   "execution_count": 8,
   "id": "0f08bf44",
   "metadata": {
    "scrolled": true
   },
   "outputs": [
    {
     "data": {
      "text/html": [
       "<div>\n",
       "<style scoped>\n",
       "    .dataframe tbody tr th:only-of-type {\n",
       "        vertical-align: middle;\n",
       "    }\n",
       "\n",
       "    .dataframe tbody tr th {\n",
       "        vertical-align: top;\n",
       "    }\n",
       "\n",
       "    .dataframe thead th {\n",
       "        text-align: right;\n",
       "    }\n",
       "</style>\n",
       "<table border=\"1\" class=\"dataframe\">\n",
       "  <thead>\n",
       "    <tr style=\"text-align: right;\">\n",
       "      <th></th>\n",
       "      <th>orderItemID</th>\n",
       "      <th>orderDate</th>\n",
       "      <th>deliveryDate</th>\n",
       "      <th>itemID</th>\n",
       "      <th>size</th>\n",
       "      <th>color</th>\n",
       "      <th>manufacturerID</th>\n",
       "      <th>price</th>\n",
       "      <th>customerID</th>\n",
       "      <th>salutation</th>\n",
       "      <th>dateOfBirth</th>\n",
       "      <th>state</th>\n",
       "      <th>creationDate</th>\n",
       "      <th>returnShipment</th>\n",
       "    </tr>\n",
       "  </thead>\n",
       "  <tbody>\n",
       "    <tr>\n",
       "      <th>0</th>\n",
       "      <td>1</td>\n",
       "      <td>4/1/2012</td>\n",
       "      <td>4/3/2012</td>\n",
       "      <td>186</td>\n",
       "      <td>m</td>\n",
       "      <td>denim</td>\n",
       "      <td>25</td>\n",
       "      <td>69.90</td>\n",
       "      <td>794</td>\n",
       "      <td>Mrs</td>\n",
       "      <td>4/3/2012</td>\n",
       "      <td>Baden-Wuerttemberg</td>\n",
       "      <td>4/25/2011</td>\n",
       "      <td>0</td>\n",
       "    </tr>\n",
       "    <tr>\n",
       "      <th>1</th>\n",
       "      <td>2</td>\n",
       "      <td>4/1/2012</td>\n",
       "      <td>4/3/2012</td>\n",
       "      <td>71</td>\n",
       "      <td>9+</td>\n",
       "      <td>ocher</td>\n",
       "      <td>21</td>\n",
       "      <td>69.95</td>\n",
       "      <td>794</td>\n",
       "      <td>Mrs</td>\n",
       "      <td>4/3/2012</td>\n",
       "      <td>Baden-Wuerttemberg</td>\n",
       "      <td>4/25/2011</td>\n",
       "      <td>1</td>\n",
       "    </tr>\n",
       "    <tr>\n",
       "      <th>2</th>\n",
       "      <td>3</td>\n",
       "      <td>4/1/2012</td>\n",
       "      <td>4/3/2012</td>\n",
       "      <td>71</td>\n",
       "      <td>9+</td>\n",
       "      <td>curry</td>\n",
       "      <td>21</td>\n",
       "      <td>69.95</td>\n",
       "      <td>794</td>\n",
       "      <td>Mrs</td>\n",
       "      <td>4/3/2012</td>\n",
       "      <td>Baden-Wuerttemberg</td>\n",
       "      <td>4/25/2011</td>\n",
       "      <td>1</td>\n",
       "    </tr>\n",
       "    <tr>\n",
       "      <th>3</th>\n",
       "      <td>4</td>\n",
       "      <td>4/2/2012</td>\n",
       "      <td>String delivery</td>\n",
       "      <td>22</td>\n",
       "      <td>m</td>\n",
       "      <td>green</td>\n",
       "      <td>14</td>\n",
       "      <td>39.90</td>\n",
       "      <td>808</td>\n",
       "      <td>Mrs</td>\n",
       "      <td>String delivery</td>\n",
       "      <td>Saxony</td>\n",
       "      <td>1/4/2012</td>\n",
       "      <td>0</td>\n",
       "    </tr>\n",
       "    <tr>\n",
       "      <th>4</th>\n",
       "      <td>5</td>\n",
       "      <td>4/2/2012</td>\n",
       "      <td>12/31/1990</td>\n",
       "      <td>151</td>\n",
       "      <td>39</td>\n",
       "      <td>black</td>\n",
       "      <td>53</td>\n",
       "      <td>29.90</td>\n",
       "      <td>825</td>\n",
       "      <td>Mrs</td>\n",
       "      <td>12/31/1990</td>\n",
       "      <td>Rhineland-Palatinate</td>\n",
       "      <td>2/16/2011</td>\n",
       "      <td>0</td>\n",
       "    </tr>\n",
       "  </tbody>\n",
       "</table>\n",
       "</div>"
      ],
      "text/plain": [
       "   orderItemID orderDate     deliveryDate  itemID size  color  manufacturerID  \\\n",
       "0            1  4/1/2012         4/3/2012     186    m  denim              25   \n",
       "1            2  4/1/2012         4/3/2012      71   9+  ocher              21   \n",
       "2            3  4/1/2012         4/3/2012      71   9+  curry              21   \n",
       "3            4  4/2/2012  String delivery      22    m  green              14   \n",
       "4            5  4/2/2012       12/31/1990     151   39  black              53   \n",
       "\n",
       "   price  customerID salutation      dateOfBirth                 state  \\\n",
       "0  69.90         794        Mrs         4/3/2012    Baden-Wuerttemberg   \n",
       "1  69.95         794        Mrs         4/3/2012    Baden-Wuerttemberg   \n",
       "2  69.95         794        Mrs         4/3/2012    Baden-Wuerttemberg   \n",
       "3  39.90         808        Mrs  String delivery                Saxony   \n",
       "4  29.90         825        Mrs       12/31/1990  Rhineland-Palatinate   \n",
       "\n",
       "  creationDate  returnShipment  \n",
       "0    4/25/2011               0  \n",
       "1    4/25/2011               1  \n",
       "2    4/25/2011               1  \n",
       "3     1/4/2012               0  \n",
       "4    2/16/2011               0  "
      ]
     },
     "execution_count": 8,
     "metadata": {},
     "output_type": "execute_result"
    }
   ],
   "source": [
    "#menampilkan data teratas\n",
    "df.head()"
   ]
  },
  {
   "cell_type": "markdown",
   "id": "468d28fc",
   "metadata": {},
   "source": [
    "### Hapus Data '?' pada Kolom 'dateOfBirth' dan 'deliveryDate'"
   ]
  },
  {
   "cell_type": "code",
   "execution_count": 9,
   "id": "92cdf592",
   "metadata": {
    "scrolled": true
   },
   "outputs": [
    {
     "name": "stdout",
     "output_type": "stream",
     "text": [
      "<class 'pandas.core.frame.DataFrame'>\n",
      "Int64Index: 441673 entries, 0 to 481091\n",
      "Data columns (total 14 columns):\n",
      " #   Column          Non-Null Count   Dtype  \n",
      "---  ------          --------------   -----  \n",
      " 0   orderItemID     441673 non-null  int64  \n",
      " 1   orderDate       441673 non-null  object \n",
      " 2   deliveryDate    441673 non-null  object \n",
      " 3   itemID          441673 non-null  int64  \n",
      " 4   size            441673 non-null  object \n",
      " 5   color           441673 non-null  object \n",
      " 6   manufacturerID  441673 non-null  int64  \n",
      " 7   price           441673 non-null  float64\n",
      " 8   customerID      441673 non-null  int64  \n",
      " 9   salutation      441673 non-null  object \n",
      " 10  dateOfBirth     441673 non-null  object \n",
      " 11  state           441673 non-null  object \n",
      " 12  creationDate    441673 non-null  object \n",
      " 13  returnShipment  441673 non-null  int64  \n",
      "dtypes: float64(1), int64(5), object(8)\n",
      "memory usage: 50.5+ MB\n"
     ]
    }
   ],
   "source": [
    "# membuang data yang telah dispesifikasikan aka string delivery & string birthDate\n",
    "df = df[df['deliveryDate'].str.contains('String delivery') == False]\n",
    "df = df[df['dateOfBirth'].str.contains('String birthDate') == False]\n",
    "df.info()"
   ]
  },
  {
   "cell_type": "markdown",
   "id": "71d6f19f",
   "metadata": {},
   "source": [
    "### Replace Kolom 'color' dengan Nilai Modus"
   ]
  },
  {
   "cell_type": "code",
   "execution_count": 10,
   "id": "eec75f65",
   "metadata": {},
   "outputs": [],
   "source": [
    "df.color = df.color.str.replace('String color', 'black') #ganti kolom 'color' dengan black"
   ]
  },
  {
   "cell_type": "code",
   "execution_count": 11,
   "id": "21530030",
   "metadata": {
    "scrolled": false
   },
   "outputs": [
    {
     "data": {
      "text/html": [
       "<div>\n",
       "<style scoped>\n",
       "    .dataframe tbody tr th:only-of-type {\n",
       "        vertical-align: middle;\n",
       "    }\n",
       "\n",
       "    .dataframe tbody tr th {\n",
       "        vertical-align: top;\n",
       "    }\n",
       "\n",
       "    .dataframe thead th {\n",
       "        text-align: right;\n",
       "    }\n",
       "</style>\n",
       "<table border=\"1\" class=\"dataframe\">\n",
       "  <thead>\n",
       "    <tr style=\"text-align: right;\">\n",
       "      <th></th>\n",
       "      <th>orderItemID</th>\n",
       "      <th>orderDate</th>\n",
       "      <th>deliveryDate</th>\n",
       "      <th>itemID</th>\n",
       "      <th>size</th>\n",
       "      <th>color</th>\n",
       "      <th>manufacturerID</th>\n",
       "      <th>price</th>\n",
       "      <th>customerID</th>\n",
       "      <th>salutation</th>\n",
       "      <th>dateOfBirth</th>\n",
       "      <th>state</th>\n",
       "      <th>creationDate</th>\n",
       "      <th>returnShipment</th>\n",
       "    </tr>\n",
       "  </thead>\n",
       "  <tbody>\n",
       "    <tr>\n",
       "      <th>0</th>\n",
       "      <td>1</td>\n",
       "      <td>4/1/2012</td>\n",
       "      <td>4/3/2012</td>\n",
       "      <td>186</td>\n",
       "      <td>m</td>\n",
       "      <td>denim</td>\n",
       "      <td>25</td>\n",
       "      <td>69.90</td>\n",
       "      <td>794</td>\n",
       "      <td>Mrs</td>\n",
       "      <td>4/3/2012</td>\n",
       "      <td>Baden-Wuerttemberg</td>\n",
       "      <td>4/25/2011</td>\n",
       "      <td>0</td>\n",
       "    </tr>\n",
       "    <tr>\n",
       "      <th>1</th>\n",
       "      <td>2</td>\n",
       "      <td>4/1/2012</td>\n",
       "      <td>4/3/2012</td>\n",
       "      <td>71</td>\n",
       "      <td>9+</td>\n",
       "      <td>ocher</td>\n",
       "      <td>21</td>\n",
       "      <td>69.95</td>\n",
       "      <td>794</td>\n",
       "      <td>Mrs</td>\n",
       "      <td>4/3/2012</td>\n",
       "      <td>Baden-Wuerttemberg</td>\n",
       "      <td>4/25/2011</td>\n",
       "      <td>1</td>\n",
       "    </tr>\n",
       "    <tr>\n",
       "      <th>2</th>\n",
       "      <td>3</td>\n",
       "      <td>4/1/2012</td>\n",
       "      <td>4/3/2012</td>\n",
       "      <td>71</td>\n",
       "      <td>9+</td>\n",
       "      <td>curry</td>\n",
       "      <td>21</td>\n",
       "      <td>69.95</td>\n",
       "      <td>794</td>\n",
       "      <td>Mrs</td>\n",
       "      <td>4/3/2012</td>\n",
       "      <td>Baden-Wuerttemberg</td>\n",
       "      <td>4/25/2011</td>\n",
       "      <td>1</td>\n",
       "    </tr>\n",
       "    <tr>\n",
       "      <th>4</th>\n",
       "      <td>5</td>\n",
       "      <td>4/2/2012</td>\n",
       "      <td>12/31/1990</td>\n",
       "      <td>151</td>\n",
       "      <td>39</td>\n",
       "      <td>black</td>\n",
       "      <td>53</td>\n",
       "      <td>29.90</td>\n",
       "      <td>825</td>\n",
       "      <td>Mrs</td>\n",
       "      <td>12/31/1990</td>\n",
       "      <td>Rhineland-Palatinate</td>\n",
       "      <td>2/16/2011</td>\n",
       "      <td>0</td>\n",
       "    </tr>\n",
       "    <tr>\n",
       "      <th>5</th>\n",
       "      <td>6</td>\n",
       "      <td>4/2/2012</td>\n",
       "      <td>12/31/1990</td>\n",
       "      <td>598</td>\n",
       "      <td>xxl</td>\n",
       "      <td>brown</td>\n",
       "      <td>87</td>\n",
       "      <td>89.90</td>\n",
       "      <td>825</td>\n",
       "      <td>Mrs</td>\n",
       "      <td>12/31/1990</td>\n",
       "      <td>Rhineland-Palatinate</td>\n",
       "      <td>2/16/2011</td>\n",
       "      <td>0</td>\n",
       "    </tr>\n",
       "    <tr>\n",
       "      <th>...</th>\n",
       "      <td>...</td>\n",
       "      <td>...</td>\n",
       "      <td>...</td>\n",
       "      <td>...</td>\n",
       "      <td>...</td>\n",
       "      <td>...</td>\n",
       "      <td>...</td>\n",
       "      <td>...</td>\n",
       "      <td>...</td>\n",
       "      <td>...</td>\n",
       "      <td>...</td>\n",
       "      <td>...</td>\n",
       "      <td>...</td>\n",
       "      <td>...</td>\n",
       "    </tr>\n",
       "    <tr>\n",
       "      <th>299810</th>\n",
       "      <td>299811</td>\n",
       "      <td>12/12/2012</td>\n",
       "      <td>12/17/2012</td>\n",
       "      <td>20</td>\n",
       "      <td>45</td>\n",
       "      <td>brown</td>\n",
       "      <td>15</td>\n",
       "      <td>59.95</td>\n",
       "      <td>23779</td>\n",
       "      <td>Mrs</td>\n",
       "      <td>12/17/2012</td>\n",
       "      <td>Lower Saxony</td>\n",
       "      <td>5/27/2012</td>\n",
       "      <td>0</td>\n",
       "    </tr>\n",
       "    <tr>\n",
       "      <th>299811</th>\n",
       "      <td>299812</td>\n",
       "      <td>12/12/2012</td>\n",
       "      <td>12/21/2012</td>\n",
       "      <td>2213</td>\n",
       "      <td>unsized</td>\n",
       "      <td>black</td>\n",
       "      <td>137</td>\n",
       "      <td>0.00</td>\n",
       "      <td>45664</td>\n",
       "      <td>Mrs</td>\n",
       "      <td>12/21/2012</td>\n",
       "      <td>Rhineland-Palatinate</td>\n",
       "      <td>2/16/2011</td>\n",
       "      <td>0</td>\n",
       "    </tr>\n",
       "    <tr>\n",
       "      <th>299812</th>\n",
       "      <td>299813</td>\n",
       "      <td>12/12/2012</td>\n",
       "      <td>12/13/2012</td>\n",
       "      <td>1526</td>\n",
       "      <td>S</td>\n",
       "      <td>aubergine</td>\n",
       "      <td>48</td>\n",
       "      <td>119.00</td>\n",
       "      <td>35568</td>\n",
       "      <td>Mrs</td>\n",
       "      <td>12/13/2012</td>\n",
       "      <td>Baden-Wuerttemberg</td>\n",
       "      <td>2/16/2011</td>\n",
       "      <td>1</td>\n",
       "    </tr>\n",
       "    <tr>\n",
       "      <th>299813</th>\n",
       "      <td>299814</td>\n",
       "      <td>12/12/2012</td>\n",
       "      <td>12/13/2012</td>\n",
       "      <td>874</td>\n",
       "      <td>9</td>\n",
       "      <td>brown</td>\n",
       "      <td>21</td>\n",
       "      <td>32.48</td>\n",
       "      <td>65119</td>\n",
       "      <td>Mrs</td>\n",
       "      <td>12/13/2012</td>\n",
       "      <td>Bavaria</td>\n",
       "      <td>2/16/2011</td>\n",
       "      <td>1</td>\n",
       "    </tr>\n",
       "    <tr>\n",
       "      <th>299814</th>\n",
       "      <td>299815</td>\n",
       "      <td>12/12/2012</td>\n",
       "      <td>12/13/2012</td>\n",
       "      <td>1624</td>\n",
       "      <td>XL</td>\n",
       "      <td>grey</td>\n",
       "      <td>11</td>\n",
       "      <td>59.90</td>\n",
       "      <td>34522</td>\n",
       "      <td>Mrs</td>\n",
       "      <td>12/13/2012</td>\n",
       "      <td>Lower Saxony</td>\n",
       "      <td>7/1/2012</td>\n",
       "      <td>1</td>\n",
       "    </tr>\n",
       "  </tbody>\n",
       "</table>\n",
       "<p>270915 rows × 14 columns</p>\n",
       "</div>"
      ],
      "text/plain": [
       "        orderItemID   orderDate deliveryDate  itemID     size      color  \\\n",
       "0                 1    4/1/2012     4/3/2012     186        m      denim   \n",
       "1                 2    4/1/2012     4/3/2012      71       9+      ocher   \n",
       "2                 3    4/1/2012     4/3/2012      71       9+      curry   \n",
       "4                 5    4/2/2012   12/31/1990     151       39      black   \n",
       "5                 6    4/2/2012   12/31/1990     598      xxl      brown   \n",
       "...             ...         ...          ...     ...      ...        ...   \n",
       "299810       299811  12/12/2012   12/17/2012      20       45      brown   \n",
       "299811       299812  12/12/2012   12/21/2012    2213  unsized      black   \n",
       "299812       299813  12/12/2012   12/13/2012    1526        S  aubergine   \n",
       "299813       299814  12/12/2012   12/13/2012     874        9      brown   \n",
       "299814       299815  12/12/2012   12/13/2012    1624       XL       grey   \n",
       "\n",
       "        manufacturerID   price  customerID salutation dateOfBirth  \\\n",
       "0                   25   69.90         794        Mrs    4/3/2012   \n",
       "1                   21   69.95         794        Mrs    4/3/2012   \n",
       "2                   21   69.95         794        Mrs    4/3/2012   \n",
       "4                   53   29.90         825        Mrs  12/31/1990   \n",
       "5                   87   89.90         825        Mrs  12/31/1990   \n",
       "...                ...     ...         ...        ...         ...   \n",
       "299810              15   59.95       23779        Mrs  12/17/2012   \n",
       "299811             137    0.00       45664        Mrs  12/21/2012   \n",
       "299812              48  119.00       35568        Mrs  12/13/2012   \n",
       "299813              21   32.48       65119        Mrs  12/13/2012   \n",
       "299814              11   59.90       34522        Mrs  12/13/2012   \n",
       "\n",
       "                       state creationDate  returnShipment  \n",
       "0         Baden-Wuerttemberg    4/25/2011               0  \n",
       "1         Baden-Wuerttemberg    4/25/2011               1  \n",
       "2         Baden-Wuerttemberg    4/25/2011               1  \n",
       "4       Rhineland-Palatinate    2/16/2011               0  \n",
       "5       Rhineland-Palatinate    2/16/2011               0  \n",
       "...                      ...          ...             ...  \n",
       "299810          Lower Saxony    5/27/2012               0  \n",
       "299811  Rhineland-Palatinate    2/16/2011               0  \n",
       "299812    Baden-Wuerttemberg    2/16/2011               1  \n",
       "299813               Bavaria    2/16/2011               1  \n",
       "299814          Lower Saxony     7/1/2012               1  \n",
       "\n",
       "[270915 rows x 14 columns]"
      ]
     },
     "execution_count": 11,
     "metadata": {},
     "output_type": "execute_result"
    }
   ],
   "source": [
    "#menampilkan data 270 ribuan\n",
    "df.head(270915)"
   ]
  },
  {
   "cell_type": "markdown",
   "id": "3639b6e7",
   "metadata": {},
   "source": [
    "### Ubah Tipe Data Tanggal Menjadi Datetime"
   ]
  },
  {
   "cell_type": "code",
   "execution_count": 12,
   "id": "303a1b4f",
   "metadata": {},
   "outputs": [],
   "source": [
    "# df['deliveryDate'] = pd.to_datetime(df['deliveryDate'])\n",
    "# df['dateOfBirth'] = pd.to_datetime(df['dateOfBirth'])\n",
    "# df['orderDate'] = pd.to_datetime(df['orderDate'])\n",
    "# df['creationDate'] = pd.to_datetime(df['creationDate'])\n",
    "# df.info()\n",
    "# Format Datetime tidak memungkinkan diproses pada naive bayes sehingga dijadikan komentar"
   ]
  },
  {
   "cell_type": "markdown",
   "id": "f6e9c344",
   "metadata": {},
   "source": [
    "## Exploratory Data Analysis"
   ]
  },
  {
   "cell_type": "markdown",
   "id": "bebf00be",
   "metadata": {},
   "source": [
    "### Jumlah Transaksi Berdasarkan 'State'"
   ]
  },
  {
   "cell_type": "code",
   "execution_count": 13,
   "id": "c228e8ba",
   "metadata": {
    "scrolled": false
   },
   "outputs": [
    {
     "data": {
      "image/png": "[encoded data removed]",
      "text/plain": [
       "<Figure size 576x576 with 1 Axes>"
      ]
     },
     "metadata": {
      "needs_background": "light"
     },
     "output_type": "display_data"
    }
   ],
   "source": [
    "# tentukan besar kanvas dengan menggunakan figsize\n",
    "plt.figure(figsize=(8, 8))\n",
    "\n",
    "g = sns.countplot(y='state', data = df, order = df['state'].value_counts().index) #g = graf, countplot = menampilkan graf \n",
    "g.set(xlabel='Jumlah', ylabel='State') # x dan y label untuk nama sumbu x dan y\n",
    "plt.suptitle(\"Jumlah Transaksi Berdasarkan 'State'\", fontsize = 'x-large', fontweight = 'regular', y=0.95)\n",
    "\n",
    "for container in g.containers: #perlu looping karena terdapat beberapa state\n",
    "    g.bar_label(container, padding=4)\n",
    "    \n",
    "# tampilkan plot\n",
    "plt.show()"
   ]
  },
  {
   "cell_type": "markdown",
   "id": "b19438fe",
   "metadata": {},
   "source": [
    "Berdasarkan plot di atas Norh Rhine-Westphalia merupakan state yang melakukan transaksi paling banyak, yaitu sebanyak 102315 transaksi"
   ]
  },
  {
   "cell_type": "markdown",
   "id": "0bac747a",
   "metadata": {},
   "source": [
    "### Jumlah Transaksi Berdasarkan 'Salutation'"
   ]
  },
  {
   "cell_type": "code",
   "execution_count": 14,
   "id": "22748fbd",
   "metadata": {
    "scrolled": false
   },
   "outputs": [
    {
     "data": {
      "image/png": "[encoded data removed]",
      "text/plain": [
       "<Figure size 432x288 with 1 Axes>"
      ]
     },
     "metadata": {
      "needs_background": "light"
     },
     "output_type": "display_data"
    }
   ],
   "source": [
    "# tentukan besar kanvas dengan menggunakan figsize\n",
    "plt.figure(figsize=(6, 4))\n",
    "\n",
    "g = sns.countplot(x='salutation', data = df, order = df['salutation'].value_counts().index)\n",
    "g.set(xlabel='Jumlah', ylabel='Salutation')\n",
    "plt.suptitle(\"Jumlah Transaksi Berdasarkan 'Salutation'\", fontsize = 'x-large', fontweight = 'regular', y=1)\n",
    "\n",
    "for container in g.containers:\n",
    "    g.bar_label(container, padding=4)\n",
    "    \n",
    "# menampilkan plot    \n",
    "plt.show()"
   ]
  },
  {
   "cell_type": "markdown",
   "id": "f8375b57",
   "metadata": {},
   "source": [
    "Berdasarkan plot di atas \"Mrs\" merupakan salutation (panggilan customer) yang mendominasi dalam transaksi dibandingkan dengan \"Mr\", \"Family\", \"Company\", dan \"not reported\""
   ]
  },
  {
   "cell_type": "markdown",
   "id": "f1b0f465",
   "metadata": {},
   "source": [
    "### Status Pengembalian Barang Berdasarkan 'Salutation'"
   ]
  },
  {
   "cell_type": "code",
   "execution_count": 15,
   "id": "b441dc3d",
   "metadata": {
    "scrolled": true
   },
   "outputs": [
    {
     "data": {
      "text/plain": [
       "Text(0.5, 1.0, 'Status Pengembalian Barang Berdasarkan \"Salutation\"')"
      ]
     },
     "execution_count": 15,
     "metadata": {},
     "output_type": "execute_result"
    },
    {
     "data": {
      "image/png": "[encoded data removed]",
      "text/plain": [
       "<Figure size 432x288 with 1 Axes>"
      ]
     },
     "metadata": {
      "needs_background": "light"
     },
     "output_type": "display_data"
    }
   ],
   "source": [
    "#melihat distribusi returnShipment\n",
    "fig, ax = plt.subplots(figsize=(6,4))\n",
    "sns.countplot(ax = ax, x = \"salutation\", hue =\"returnShipment\", data = df, order=df['salutation'].value_counts().index).set_title('Status Pengembalian Barang Berdasarkan \"Salutation\"') "
   ]
  },
  {
   "cell_type": "markdown",
   "id": "660f5a4e",
   "metadata": {},
   "source": [
    "Berdasarkan plot di atas menunjukkan bahwa salutation \"Mrs\" dengan pengembalian barang (returnShipment = 1) lebih dominan daripada tidak mengembalikan barang (returnShipment = 0). Selain itu, jumlah salutation \"Mrs\" lebih banyak mengembalikan barang dibandingkan salutation lainnya."
   ]
  },
  {
   "cell_type": "markdown",
   "id": "e059781d",
   "metadata": {},
   "source": [
    "### Boxplot Atribut Price"
   ]
  },
  {
   "cell_type": "code",
   "execution_count": 16,
   "id": "8bf4db18",
   "metadata": {},
   "outputs": [
    {
     "data": {
      "text/plain": [
       "<AxesSubplot:xlabel='price'>"
      ]
     },
     "execution_count": 16,
     "metadata": {},
     "output_type": "execute_result"
    },
    {
     "data": {
      "image/png": "[encoded data removed]",
      "text/plain": [
       "<Figure size 432x288 with 1 Axes>"
      ]
     },
     "metadata": {
      "needs_background": "light"
     },
     "output_type": "display_data"
    }
   ],
   "source": [
    "sns.boxplot(x=\"price\", data=df)"
   ]
  },
  {
   "cell_type": "code",
   "execution_count": 17,
   "id": "3a207c5f",
   "metadata": {},
   "outputs": [
    {
     "data": {
      "text/html": [
       "<div>\n",
       "<style scoped>\n",
       "    .dataframe tbody tr th:only-of-type {\n",
       "        vertical-align: middle;\n",
       "    }\n",
       "\n",
       "    .dataframe tbody tr th {\n",
       "        vertical-align: top;\n",
       "    }\n",
       "\n",
       "    .dataframe thead th {\n",
       "        text-align: right;\n",
       "    }\n",
       "</style>\n",
       "<table border=\"1\" class=\"dataframe\">\n",
       "  <thead>\n",
       "    <tr style=\"text-align: right;\">\n",
       "      <th></th>\n",
       "      <th>price</th>\n",
       "    </tr>\n",
       "  </thead>\n",
       "  <tbody>\n",
       "    <tr>\n",
       "      <th>count</th>\n",
       "      <td>441673.000000</td>\n",
       "    </tr>\n",
       "    <tr>\n",
       "      <th>mean</th>\n",
       "      <td>70.133408</td>\n",
       "    </tr>\n",
       "    <tr>\n",
       "      <th>std</th>\n",
       "      <td>45.340828</td>\n",
       "    </tr>\n",
       "    <tr>\n",
       "      <th>min</th>\n",
       "      <td>0.000000</td>\n",
       "    </tr>\n",
       "    <tr>\n",
       "      <th>25%</th>\n",
       "      <td>34.900000</td>\n",
       "    </tr>\n",
       "    <tr>\n",
       "      <th>50%</th>\n",
       "      <td>59.900000</td>\n",
       "    </tr>\n",
       "    <tr>\n",
       "      <th>75%</th>\n",
       "      <td>89.900000</td>\n",
       "    </tr>\n",
       "    <tr>\n",
       "      <th>max</th>\n",
       "      <td>999.000000</td>\n",
       "    </tr>\n",
       "  </tbody>\n",
       "</table>\n",
       "</div>"
      ],
      "text/plain": [
       "               price\n",
       "count  441673.000000\n",
       "mean       70.133408\n",
       "std        45.340828\n",
       "min         0.000000\n",
       "25%        34.900000\n",
       "50%        59.900000\n",
       "75%        89.900000\n",
       "max       999.000000"
      ]
     },
     "execution_count": 17,
     "metadata": {},
     "output_type": "execute_result"
    }
   ],
   "source": [
    "df[['price']].describe()"
   ]
  },
  {
   "cell_type": "markdown",
   "id": "d0f0461a",
   "metadata": {},
   "source": [
    "Dapat dilihat pada boxplot di atas serta analisis atribut untuk menampilkan distribusi, bahwa atribut untuk price terdapat nilai ekstrim (outlier) di atas value +- 180. Lower Quartile diperoleh pada value 34.9, Upper Quartile diperoleh pada value 89.9 sedangkan median diperoleh pada value 59.9."
   ]
  },
  {
   "cell_type": "markdown",
   "id": "754b8bfd",
   "metadata": {},
   "source": [
    "## Persiapan Dataset"
   ]
  },
  {
   "cell_type": "code",
   "execution_count": 18,
   "id": "ed634e59",
   "metadata": {},
   "outputs": [
    {
     "data": {
      "text/html": [
       "<div>\n",
       "<style scoped>\n",
       "    .dataframe tbody tr th:only-of-type {\n",
       "        vertical-align: middle;\n",
       "    }\n",
       "\n",
       "    .dataframe tbody tr th {\n",
       "        vertical-align: top;\n",
       "    }\n",
       "\n",
       "    .dataframe thead th {\n",
       "        text-align: right;\n",
       "    }\n",
       "</style>\n",
       "<table border=\"1\" class=\"dataframe\">\n",
       "  <thead>\n",
       "    <tr style=\"text-align: right;\">\n",
       "      <th></th>\n",
       "      <th>orderItemID</th>\n",
       "      <th>itemID</th>\n",
       "      <th>manufacturerID</th>\n",
       "      <th>price</th>\n",
       "      <th>customerID</th>\n",
       "      <th>returnShipment</th>\n",
       "    </tr>\n",
       "  </thead>\n",
       "  <tbody>\n",
       "    <tr>\n",
       "      <th>0</th>\n",
       "      <td>1</td>\n",
       "      <td>186</td>\n",
       "      <td>25</td>\n",
       "      <td>69.90</td>\n",
       "      <td>794</td>\n",
       "      <td>0</td>\n",
       "    </tr>\n",
       "    <tr>\n",
       "      <th>1</th>\n",
       "      <td>2</td>\n",
       "      <td>71</td>\n",
       "      <td>21</td>\n",
       "      <td>69.95</td>\n",
       "      <td>794</td>\n",
       "      <td>1</td>\n",
       "    </tr>\n",
       "    <tr>\n",
       "      <th>2</th>\n",
       "      <td>3</td>\n",
       "      <td>71</td>\n",
       "      <td>21</td>\n",
       "      <td>69.95</td>\n",
       "      <td>794</td>\n",
       "      <td>1</td>\n",
       "    </tr>\n",
       "    <tr>\n",
       "      <th>4</th>\n",
       "      <td>5</td>\n",
       "      <td>151</td>\n",
       "      <td>53</td>\n",
       "      <td>29.90</td>\n",
       "      <td>825</td>\n",
       "      <td>0</td>\n",
       "    </tr>\n",
       "    <tr>\n",
       "      <th>5</th>\n",
       "      <td>6</td>\n",
       "      <td>598</td>\n",
       "      <td>87</td>\n",
       "      <td>89.90</td>\n",
       "      <td>825</td>\n",
       "      <td>0</td>\n",
       "    </tr>\n",
       "  </tbody>\n",
       "</table>\n",
       "</div>"
      ],
      "text/plain": [
       "   orderItemID  itemID  manufacturerID  price  customerID  returnShipment\n",
       "0            1     186              25  69.90         794               0\n",
       "1            2      71              21  69.95         794               1\n",
       "2            3      71              21  69.95         794               1\n",
       "4            5     151              53  29.90         825               0\n",
       "5            6     598              87  89.90         825               0"
      ]
     },
     "execution_count": 18,
     "metadata": {},
     "output_type": "execute_result"
    }
   ],
   "source": [
    "# Menghapus kolom yang terdapat tipe data string, agar dapat dibuat modelnya dengan naive bayes\n",
    "df = df.drop(columns=['color', 'salutation', 'state', 'orderDate', \n",
    "                        'deliveryDate', 'dateOfBirth', 'creationDate', 'size'])\n",
    "df.head()"
   ]
  },
  {
   "cell_type": "code",
   "execution_count": 19,
   "id": "0c91bb05",
   "metadata": {},
   "outputs": [],
   "source": [
    "# import library\n",
    "from sklearn import preprocessing\n",
    "from sklearn.model_selection import train_test_split"
   ]
  },
  {
   "cell_type": "code",
   "execution_count": 20,
   "id": "a4028b69",
   "metadata": {},
   "outputs": [],
   "source": [
    "Y = (df.returnShipment) # Y = nama variabel, ambil kolom returnShipment kemudian simpan di Y"
   ]
  },
  {
   "cell_type": "code",
   "execution_count": 21,
   "id": "52e669c6",
   "metadata": {},
   "outputs": [
    {
     "data": {
      "text/plain": [
       "0    0\n",
       "1    1\n",
       "2    1\n",
       "4    0\n",
       "5    0\n",
       "Name: returnShipment, dtype: int64"
      ]
     },
     "execution_count": 21,
     "metadata": {},
     "output_type": "execute_result"
    }
   ],
   "source": [
    "Y.head() #data dari kolom returnShipment"
   ]
  },
  {
   "cell_type": "code",
   "execution_count": 22,
   "id": "0b5558fa",
   "metadata": {},
   "outputs": [],
   "source": [
    "X = df.drop(\"returnShipment\", axis=1) # drop kolom returnShipment kemudian simpan di X, axis = 1 (kolom)"
   ]
  },
  {
   "cell_type": "code",
   "execution_count": 23,
   "id": "3153ee91",
   "metadata": {
    "scrolled": false
   },
   "outputs": [
    {
     "data": {
      "text/html": [
       "<div>\n",
       "<style scoped>\n",
       "    .dataframe tbody tr th:only-of-type {\n",
       "        vertical-align: middle;\n",
       "    }\n",
       "\n",
       "    .dataframe tbody tr th {\n",
       "        vertical-align: top;\n",
       "    }\n",
       "\n",
       "    .dataframe thead th {\n",
       "        text-align: right;\n",
       "    }\n",
       "</style>\n",
       "<table border=\"1\" class=\"dataframe\">\n",
       "  <thead>\n",
       "    <tr style=\"text-align: right;\">\n",
       "      <th></th>\n",
       "      <th>orderItemID</th>\n",
       "      <th>itemID</th>\n",
       "      <th>manufacturerID</th>\n",
       "      <th>price</th>\n",
       "      <th>customerID</th>\n",
       "    </tr>\n",
       "  </thead>\n",
       "  <tbody>\n",
       "    <tr>\n",
       "      <th>0</th>\n",
       "      <td>1</td>\n",
       "      <td>186</td>\n",
       "      <td>25</td>\n",
       "      <td>69.90</td>\n",
       "      <td>794</td>\n",
       "    </tr>\n",
       "    <tr>\n",
       "      <th>1</th>\n",
       "      <td>2</td>\n",
       "      <td>71</td>\n",
       "      <td>21</td>\n",
       "      <td>69.95</td>\n",
       "      <td>794</td>\n",
       "    </tr>\n",
       "    <tr>\n",
       "      <th>2</th>\n",
       "      <td>3</td>\n",
       "      <td>71</td>\n",
       "      <td>21</td>\n",
       "      <td>69.95</td>\n",
       "      <td>794</td>\n",
       "    </tr>\n",
       "    <tr>\n",
       "      <th>4</th>\n",
       "      <td>5</td>\n",
       "      <td>151</td>\n",
       "      <td>53</td>\n",
       "      <td>29.90</td>\n",
       "      <td>825</td>\n",
       "    </tr>\n",
       "    <tr>\n",
       "      <th>5</th>\n",
       "      <td>6</td>\n",
       "      <td>598</td>\n",
       "      <td>87</td>\n",
       "      <td>89.90</td>\n",
       "      <td>825</td>\n",
       "    </tr>\n",
       "  </tbody>\n",
       "</table>\n",
       "</div>"
      ],
      "text/plain": [
       "   orderItemID  itemID  manufacturerID  price  customerID\n",
       "0            1     186              25  69.90         794\n",
       "1            2      71              21  69.95         794\n",
       "2            3      71              21  69.95         794\n",
       "4            5     151              53  29.90         825\n",
       "5            6     598              87  89.90         825"
      ]
     },
     "execution_count": 23,
     "metadata": {},
     "output_type": "execute_result"
    }
   ],
   "source": [
    "X.head() # menampilkan data 5 teratas"
   ]
  },
  {
   "cell_type": "markdown",
   "id": "ff5e2971",
   "metadata": {},
   "source": [
    "### Split Dataset"
   ]
  },
  {
   "cell_type": "code",
   "execution_count": 24,
   "id": "32b1cf0f",
   "metadata": {},
   "outputs": [],
   "source": [
    "# split dataset\n",
    "X_train,X_test,Y_train,Y_test=train_test_split(X,Y,test_size=0.2,random_state=123)"
   ]
  },
  {
   "cell_type": "code",
   "execution_count": 25,
   "id": "af434125",
   "metadata": {},
   "outputs": [
    {
     "data": {
      "text/html": [
       "<div>\n",
       "<style scoped>\n",
       "    .dataframe tbody tr th:only-of-type {\n",
       "        vertical-align: middle;\n",
       "    }\n",
       "\n",
       "    .dataframe tbody tr th {\n",
       "        vertical-align: top;\n",
       "    }\n",
       "\n",
       "    .dataframe thead th {\n",
       "        text-align: right;\n",
       "    }\n",
       "</style>\n",
       "<table border=\"1\" class=\"dataframe\">\n",
       "  <thead>\n",
       "    <tr style=\"text-align: right;\">\n",
       "      <th></th>\n",
       "      <th>orderItemID</th>\n",
       "      <th>itemID</th>\n",
       "      <th>manufacturerID</th>\n",
       "      <th>price</th>\n",
       "      <th>customerID</th>\n",
       "    </tr>\n",
       "  </thead>\n",
       "  <tbody>\n",
       "    <tr>\n",
       "      <th>225617</th>\n",
       "      <td>225618</td>\n",
       "      <td>2086</td>\n",
       "      <td>56</td>\n",
       "      <td>31.95</td>\n",
       "      <td>52500</td>\n",
       "    </tr>\n",
       "    <tr>\n",
       "      <th>221257</th>\n",
       "      <td>221258</td>\n",
       "      <td>264</td>\n",
       "      <td>6</td>\n",
       "      <td>39.90</td>\n",
       "      <td>21517</td>\n",
       "    </tr>\n",
       "    <tr>\n",
       "      <th>480751</th>\n",
       "      <td>480752</td>\n",
       "      <td>2394</td>\n",
       "      <td>32</td>\n",
       "      <td>39.90</td>\n",
       "      <td>30564</td>\n",
       "    </tr>\n",
       "    <tr>\n",
       "      <th>340566</th>\n",
       "      <td>340567</td>\n",
       "      <td>2725</td>\n",
       "      <td>5</td>\n",
       "      <td>59.90</td>\n",
       "      <td>62630</td>\n",
       "    </tr>\n",
       "    <tr>\n",
       "      <th>130049</th>\n",
       "      <td>130050</td>\n",
       "      <td>211</td>\n",
       "      <td>1</td>\n",
       "      <td>59.90</td>\n",
       "      <td>35890</td>\n",
       "    </tr>\n",
       "    <tr>\n",
       "      <th>...</th>\n",
       "      <td>...</td>\n",
       "      <td>...</td>\n",
       "      <td>...</td>\n",
       "      <td>...</td>\n",
       "      <td>...</td>\n",
       "    </tr>\n",
       "    <tr>\n",
       "      <th>212465</th>\n",
       "      <td>212466</td>\n",
       "      <td>1468</td>\n",
       "      <td>3</td>\n",
       "      <td>59.90</td>\n",
       "      <td>50193</td>\n",
       "    </tr>\n",
       "    <tr>\n",
       "      <th>19313</th>\n",
       "      <td>19314</td>\n",
       "      <td>33</td>\n",
       "      <td>5</td>\n",
       "      <td>59.90</td>\n",
       "      <td>6744</td>\n",
       "    </tr>\n",
       "    <tr>\n",
       "      <th>30771</th>\n",
       "      <td>30772</td>\n",
       "      <td>48</td>\n",
       "      <td>3</td>\n",
       "      <td>24.90</td>\n",
       "      <td>6488</td>\n",
       "    </tr>\n",
       "    <tr>\n",
       "      <th>307284</th>\n",
       "      <td>307285</td>\n",
       "      <td>1747</td>\n",
       "      <td>1</td>\n",
       "      <td>119.90</td>\n",
       "      <td>49444</td>\n",
       "    </tr>\n",
       "    <tr>\n",
       "      <th>275570</th>\n",
       "      <td>275571</td>\n",
       "      <td>1683</td>\n",
       "      <td>97</td>\n",
       "      <td>39.90</td>\n",
       "      <td>14315</td>\n",
       "    </tr>\n",
       "  </tbody>\n",
       "</table>\n",
       "<p>353338 rows × 5 columns</p>\n",
       "</div>"
      ],
      "text/plain": [
       "        orderItemID  itemID  manufacturerID   price  customerID\n",
       "225617       225618    2086              56   31.95       52500\n",
       "221257       221258     264               6   39.90       21517\n",
       "480751       480752    2394              32   39.90       30564\n",
       "340566       340567    2725               5   59.90       62630\n",
       "130049       130050     211               1   59.90       35890\n",
       "...             ...     ...             ...     ...         ...\n",
       "212465       212466    1468               3   59.90       50193\n",
       "19313         19314      33               5   59.90        6744\n",
       "30771         30772      48               3   24.90        6488\n",
       "307284       307285    1747               1  119.90       49444\n",
       "275570       275571    1683              97   39.90       14315\n",
       "\n",
       "[353338 rows x 5 columns]"
      ]
     },
     "execution_count": 25,
     "metadata": {},
     "output_type": "execute_result"
    }
   ],
   "source": [
    "X_train"
   ]
  },
  {
   "cell_type": "code",
   "execution_count": 26,
   "id": "bec84070",
   "metadata": {},
   "outputs": [
    {
     "data": {
      "text/html": [
       "<div>\n",
       "<style scoped>\n",
       "    .dataframe tbody tr th:only-of-type {\n",
       "        vertical-align: middle;\n",
       "    }\n",
       "\n",
       "    .dataframe tbody tr th {\n",
       "        vertical-align: top;\n",
       "    }\n",
       "\n",
       "    .dataframe thead th {\n",
       "        text-align: right;\n",
       "    }\n",
       "</style>\n",
       "<table border=\"1\" class=\"dataframe\">\n",
       "  <thead>\n",
       "    <tr style=\"text-align: right;\">\n",
       "      <th></th>\n",
       "      <th>orderItemID</th>\n",
       "      <th>itemID</th>\n",
       "      <th>manufacturerID</th>\n",
       "      <th>price</th>\n",
       "      <th>customerID</th>\n",
       "    </tr>\n",
       "  </thead>\n",
       "  <tbody>\n",
       "    <tr>\n",
       "      <th>243874</th>\n",
       "      <td>243875</td>\n",
       "      <td>1642</td>\n",
       "      <td>113</td>\n",
       "      <td>59.9</td>\n",
       "      <td>50902</td>\n",
       "    </tr>\n",
       "    <tr>\n",
       "      <th>315494</th>\n",
       "      <td>315495</td>\n",
       "      <td>1788</td>\n",
       "      <td>20</td>\n",
       "      <td>99.9</td>\n",
       "      <td>11751</td>\n",
       "    </tr>\n",
       "    <tr>\n",
       "      <th>94333</th>\n",
       "      <td>94334</td>\n",
       "      <td>22</td>\n",
       "      <td>14</td>\n",
       "      <td>24.9</td>\n",
       "      <td>10550</td>\n",
       "    </tr>\n",
       "    <tr>\n",
       "      <th>54455</th>\n",
       "      <td>54456</td>\n",
       "      <td>365</td>\n",
       "      <td>71</td>\n",
       "      <td>9.9</td>\n",
       "      <td>19820</td>\n",
       "    </tr>\n",
       "    <tr>\n",
       "      <th>119779</th>\n",
       "      <td>119780</td>\n",
       "      <td>560</td>\n",
       "      <td>1</td>\n",
       "      <td>54.9</td>\n",
       "      <td>25690</td>\n",
       "    </tr>\n",
       "    <tr>\n",
       "      <th>...</th>\n",
       "      <td>...</td>\n",
       "      <td>...</td>\n",
       "      <td>...</td>\n",
       "      <td>...</td>\n",
       "      <td>...</td>\n",
       "    </tr>\n",
       "    <tr>\n",
       "      <th>277711</th>\n",
       "      <td>277712</td>\n",
       "      <td>1505</td>\n",
       "      <td>102</td>\n",
       "      <td>49.9</td>\n",
       "      <td>60472</td>\n",
       "    </tr>\n",
       "    <tr>\n",
       "      <th>423738</th>\n",
       "      <td>423739</td>\n",
       "      <td>2371</td>\n",
       "      <td>46</td>\n",
       "      <td>29.9</td>\n",
       "      <td>23958</td>\n",
       "    </tr>\n",
       "    <tr>\n",
       "      <th>62533</th>\n",
       "      <td>62534</td>\n",
       "      <td>342</td>\n",
       "      <td>1</td>\n",
       "      <td>129.9</td>\n",
       "      <td>10522</td>\n",
       "    </tr>\n",
       "    <tr>\n",
       "      <th>211087</th>\n",
       "      <td>211088</td>\n",
       "      <td>1517</td>\n",
       "      <td>6</td>\n",
       "      <td>69.9</td>\n",
       "      <td>4127</td>\n",
       "    </tr>\n",
       "    <tr>\n",
       "      <th>56416</th>\n",
       "      <td>56417</td>\n",
       "      <td>84</td>\n",
       "      <td>5</td>\n",
       "      <td>59.9</td>\n",
       "      <td>20301</td>\n",
       "    </tr>\n",
       "  </tbody>\n",
       "</table>\n",
       "<p>88335 rows × 5 columns</p>\n",
       "</div>"
      ],
      "text/plain": [
       "        orderItemID  itemID  manufacturerID  price  customerID\n",
       "243874       243875    1642             113   59.9       50902\n",
       "315494       315495    1788              20   99.9       11751\n",
       "94333         94334      22              14   24.9       10550\n",
       "54455         54456     365              71    9.9       19820\n",
       "119779       119780     560               1   54.9       25690\n",
       "...             ...     ...             ...    ...         ...\n",
       "277711       277712    1505             102   49.9       60472\n",
       "423738       423739    2371              46   29.9       23958\n",
       "62533         62534     342               1  129.9       10522\n",
       "211087       211088    1517               6   69.9        4127\n",
       "56416         56417      84               5   59.9       20301\n",
       "\n",
       "[88335 rows x 5 columns]"
      ]
     },
     "execution_count": 26,
     "metadata": {},
     "output_type": "execute_result"
    }
   ],
   "source": [
    "X_test"
   ]
  },
  {
   "cell_type": "code",
   "execution_count": 27,
   "id": "9ae1d36e",
   "metadata": {},
   "outputs": [
    {
     "data": {
      "text/plain": [
       "225617    1\n",
       "221257    1\n",
       "480751    1\n",
       "340566    1\n",
       "130049    0\n",
       "         ..\n",
       "212465    1\n",
       "19313     1\n",
       "30771     0\n",
       "307284    0\n",
       "275570    0\n",
       "Name: returnShipment, Length: 353338, dtype: int64"
      ]
     },
     "execution_count": 27,
     "metadata": {},
     "output_type": "execute_result"
    }
   ],
   "source": [
    "Y_train"
   ]
  },
  {
   "cell_type": "code",
   "execution_count": 28,
   "id": "b1907c05",
   "metadata": {},
   "outputs": [
    {
     "data": {
      "text/plain": [
       "243874    1\n",
       "315494    0\n",
       "94333     0\n",
       "54455     1\n",
       "119779    0\n",
       "         ..\n",
       "277711    1\n",
       "423738    0\n",
       "62533     1\n",
       "211087    1\n",
       "56416     1\n",
       "Name: returnShipment, Length: 88335, dtype: int64"
      ]
     },
     "execution_count": 28,
     "metadata": {},
     "output_type": "execute_result"
    }
   ],
   "source": [
    "Y_test"
   ]
  },
  {
   "cell_type": "code",
   "execution_count": 29,
   "id": "787f3626",
   "metadata": {},
   "outputs": [],
   "source": [
    "#simpan nama kolom untuk keperluan prediksi nanti\n",
    "import pickle\n",
    "with open('C:\\\\Users\\\\Lenovo\\\\datmin python\\\\shipment_x_train_columns.pickle', 'wb') as fp:\n",
    "    pickle.dump(X_train.columns, fp)"
   ]
  },
  {
   "cell_type": "code",
   "execution_count": 30,
   "id": "305b5f9a",
   "metadata": {},
   "outputs": [],
   "source": [
    "# import library\n",
    "from sklearn.metrics import classification_report, make_scorer, f1_score\n",
    "from sklearn.model_selection import cross_val_score\n",
    "from sklearn.metrics import confusion_matrix #untuk menampilkan confusion matrix"
   ]
  },
  {
   "cell_type": "markdown",
   "id": "62e89790",
   "metadata": {},
   "source": [
    "# Pembuatan Model"
   ]
  },
  {
   "cell_type": "markdown",
   "id": "b0f0b9a1",
   "metadata": {},
   "source": [
    "## Naive Bayes"
   ]
  },
  {
   "cell_type": "markdown",
   "id": "02185c12",
   "metadata": {},
   "source": [
    "Pembuatan model dengan menggunakan metode naive bayes"
   ]
  },
  {
   "cell_type": "code",
   "execution_count": 31,
   "id": "158e3912",
   "metadata": {},
   "outputs": [
    {
     "name": "stdout",
     "output_type": "stream",
     "text": [
      "Akurasi 0.5719929812645045\n",
      "              precision    recall  f1-score   support\n",
      "\n",
      "           0       0.55      0.55      0.55     41900\n",
      "           1       0.59      0.59      0.59     46435\n",
      "\n",
      "    accuracy                           0.57     88335\n",
      "   macro avg       0.57      0.57      0.57     88335\n",
      "weighted avg       0.57      0.57      0.57     88335\n",
      "\n",
      "[[23210 18690]\n",
      " [19118 27317]]\n",
      "\n",
      "\n",
      "~~~~~~~~~~~~~~~~~~~~~~Cross Validation~~~~~~~~~~~~~~~~~~~~\n",
      "\n",
      "\n",
      "              precision    recall  f1-score   support\n",
      "\n",
      "           0       0.51      0.73      0.60     52396\n",
      "           1       0.60      0.37      0.46     58023\n",
      "\n",
      "    accuracy                           0.54    110419\n",
      "   macro avg       0.55      0.55      0.53    110419\n",
      "weighted avg       0.56      0.54      0.52    110419\n",
      "\n",
      "[[38103 14293]\n",
      " [36644 21379]]\n",
      "              precision    recall  f1-score   support\n",
      "\n",
      "           0       0.56      0.56      0.56     52396\n",
      "           1       0.60      0.60      0.60     58022\n",
      "\n",
      "    accuracy                           0.58    110418\n",
      "   macro avg       0.58      0.58      0.58    110418\n",
      "weighted avg       0.58      0.58      0.58    110418\n",
      "\n",
      "[[29154 23242]\n",
      " [23363 34659]]\n",
      "              precision    recall  f1-score   support\n",
      "\n",
      "           0       0.56      0.52      0.54     52395\n",
      "           1       0.59      0.63      0.61     58023\n",
      "\n",
      "    accuracy                           0.58    110418\n",
      "   macro avg       0.58      0.58      0.57    110418\n",
      "weighted avg       0.58      0.58      0.58    110418\n",
      "\n",
      "[[27500 24895]\n",
      " [21737 36286]]\n",
      "              precision    recall  f1-score   support\n",
      "\n",
      "           0       0.66      0.09      0.15     52395\n",
      "           1       0.54      0.96      0.69     58023\n",
      "\n",
      "    accuracy                           0.55    110418\n",
      "   macro avg       0.60      0.52      0.42    110418\n",
      "weighted avg       0.60      0.55      0.44    110418\n",
      "\n",
      "[[ 4547 47848]\n",
      " [ 2299 55724]]\n",
      "[0.45635306 0.59796589 0.60880507 0.6896748 ]\n"
     ]
    }
   ],
   "source": [
    "# import library\n",
    "from sklearn.naive_bayes import GaussianNB\n",
    "from sklearn.metrics import classification_report\n",
    "from sklearn.metrics import accuracy_score\n",
    "\n",
    "clf_NB = GaussianNB()                           \n",
    "clf_NB.fit(X_train, Y_train) # untuk memilih data train yang mana              \n",
    "\n",
    "Y_pred = clf_NB.predict(X_test) # untuk memprediksi menggunakan data x_test disimpan di Y_pred              \n",
    "acc = accuracy_score(Y_test, Y_pred)\n",
    "\n",
    "print(\"Akurasi {}\".format(acc)) # menampilkan akurasi                  \n",
    "print(classification_report(Y_test, Y_pred)) \n",
    "\n",
    "print(confusion_matrix(Y_test, Y_pred)) # untuk menampilkan confusion matrix\n",
    "\n",
    "print(\"\\n\\n~~~~~~~~~~~~~~~~~~~~~~Cross Validation~~~~~~~~~~~~~~~~~~~~\\n\\n\")\n",
    "\n",
    "def classification_report_with_f1_score(y_true, y_pred):\n",
    "    print(classification_report(y_true, y_pred))\n",
    "    print(confusion_matrix(y_true, y_pred))\n",
    "    return f1_score(y_true, y_pred)\n",
    "\n",
    "scores = cross_val_score(clf_NB, X=X, y=Y, cv=4, scoring=make_scorer(classification_report_with_f1_score))\n",
    "print(scores)"
   ]
  },
  {
   "cell_type": "markdown",
   "id": "3118b093",
   "metadata": {},
   "source": [
    "Dengan menggunakan model Naive Bayes, dapat diketahui\n",
    "\n",
    "[0.45635306 0.59796589 0.60880507 0.6896748]\n",
    "\n",
    "Cross validation, jika menggunakan model Naive Bayes, nilai suppoert f1-score pada returnShipment 1 tidak mengalami perubahan setiap kali syntax predict dan accuracy score dijalankan, yaitu tetap pada 58023\n",
    "\n",
    "Dari output di atas, nilai f1-score mengalami peningkatan tiap cross validation dengan menggunakan model Naive Bayes. Pula, setiap kali model Naive Bayes dijalankan nilai f1 score selalu sama\n",
    "\n",
    "Dari penjelasan di atas, disimpulkan bahwa kinerja model Naive Bayes ialah stabil dan konsisten"
   ]
  },
  {
   "cell_type": "markdown",
   "id": "2745418c",
   "metadata": {},
   "source": [
    "## Decision Tree"
   ]
  },
  {
   "cell_type": "code",
   "execution_count": 32,
   "id": "23934a41",
   "metadata": {},
   "outputs": [
    {
     "name": "stdout",
     "output_type": "stream",
     "text": [
      "Akurasi 0.5821701477330616\n",
      "              precision    recall  f1-score   support\n",
      "\n",
      "           0       0.56      0.55      0.55     41900\n",
      "           1       0.60      0.61      0.61     46435\n",
      "\n",
      "    accuracy                           0.58     88335\n",
      "   macro avg       0.58      0.58      0.58     88335\n",
      "weighted avg       0.58      0.58      0.58     88335\n",
      "\n"
     ]
    }
   ],
   "source": [
    "from sklearn import tree\n",
    "clf = tree.DecisionTreeClassifier()\n",
    "clf.fit(X_train, Y_train)\n",
    "Y_pred = clf.predict(X_test)\n",
    "acc = accuracy_score(Y_test, Y_pred)\n",
    "print(\"Akurasi {}\".format(acc))\n",
    "print(classification_report(Y_test, Y_pred))"
   ]
  },
  {
   "cell_type": "markdown",
   "id": "70130a98",
   "metadata": {},
   "source": [
    "Jika menggunakan Decision Tree, diperoleh hasil pada f1-score (1 : pengembalian barang), yaitu dengan nilai 0.61"
   ]
  },
  {
   "cell_type": "markdown",
   "id": "92624523",
   "metadata": {},
   "source": [
    "## Random Forest"
   ]
  },
  {
   "cell_type": "code",
   "execution_count": 33,
   "id": "bb26469f",
   "metadata": {},
   "outputs": [
    {
     "name": "stdout",
     "output_type": "stream",
     "text": [
      "Akurasi 0.6002716929869247\n",
      "              precision    recall  f1-score   support\n",
      "\n",
      "           0       0.58      0.56      0.57     41900\n",
      "           1       0.61      0.64      0.63     46435\n",
      "\n",
      "    accuracy                           0.60     88335\n",
      "   macro avg       0.60      0.60      0.60     88335\n",
      "weighted avg       0.60      0.60      0.60     88335\n",
      "\n"
     ]
    }
   ],
   "source": [
    "from sklearn.ensemble import RandomForestClassifier\n",
    "clf = RandomForestClassifier(n_estimators=50, random_state=123)\n",
    "clf.fit(X_train, Y_train)\n",
    "Y_pred = clf.predict(X_test)\n",
    "acc = accuracy_score(Y_test, Y_pred)\n",
    "print(\"Akurasi {}\".format(acc))\n",
    "print(classification_report(Y_test, Y_pred))"
   ]
  },
  {
   "cell_type": "markdown",
   "id": "91569d58",
   "metadata": {},
   "source": [
    "Jika menggunakan Random Forest, diperoleh hasilnya dengan peningkatan pada f1-score (1 : pengembalian barang), yaitu dengan nilai 0.63"
   ]
  },
  {
   "cell_type": "markdown",
   "id": "749e15e8",
   "metadata": {},
   "source": [
    "## XGBOOST"
   ]
  },
  {
   "cell_type": "code",
   "execution_count": 34,
   "id": "82df642b",
   "metadata": {},
   "outputs": [
    {
     "name": "stderr",
     "output_type": "stream",
     "text": [
      "D:\\apps\\anaconda3\\lib\\site-packages\\xgboost\\compat.py:36: FutureWarning: pandas.Int64Index is deprecated and will be removed from pandas in a future version. Use pandas.Index with the appropriate dtype instead.\n",
      "  from pandas import MultiIndex, Int64Index\n",
      "D:\\apps\\anaconda3\\lib\\site-packages\\xgboost\\sklearn.py:1224: UserWarning: The use of label encoder in XGBClassifier is deprecated and will be removed in a future release. To remove this warning, do the following: 1) Pass option use_label_encoder=False when constructing XGBClassifier object; and 2) Encode your labels (y) as integers starting with 0, i.e. 0, 1, 2, ..., [num_class - 1].\n",
      "  warnings.warn(label_encoder_deprecation_msg, UserWarning)\n",
      "D:\\apps\\anaconda3\\lib\\site-packages\\xgboost\\data.py:250: FutureWarning: pandas.Int64Index is deprecated and will be removed from pandas in a future version. Use pandas.Index with the appropriate dtype instead.\n",
      "  elif isinstance(data.columns, (pd.Int64Index, pd.RangeIndex)):\n"
     ]
    },
    {
     "name": "stdout",
     "output_type": "stream",
     "text": [
      "[20:40:04] WARNING: ..\\src\\learner.cc:1115: Starting in XGBoost 1.3.0, the default evaluation metric used with the objective 'binary:logistic' was changed from 'error' to 'logloss'. Explicitly set eval_metric if you'd like to restore the old behavior.\n",
      "Akurasi 0.5880455085753099\n",
      "              precision    recall  f1-score   support\n",
      "\n",
      "           0       0.63      0.31      0.42     41900\n",
      "           1       0.57      0.84      0.68     46435\n",
      "\n",
      "    accuracy                           0.59     88335\n",
      "   macro avg       0.60      0.57      0.55     88335\n",
      "weighted avg       0.60      0.59      0.56     88335\n",
      "\n"
     ]
    }
   ],
   "source": [
    "import xgboost as xgb\n",
    "clf = xgb.XGBClassifier(n_estimators=2, max_depth=2, learning_rate=1, objective='binary:logistic')\n",
    "clf.fit(X_train, Y_train)\n",
    "Y_pred = clf.predict(X_test)\n",
    "acc = accuracy_score(Y_test, Y_pred)\n",
    "print(\"Akurasi {}\".format(acc))\n",
    "print(classification_report(Y_test, Y_pred))"
   ]
  },
  {
   "cell_type": "markdown",
   "id": "49115be7",
   "metadata": {},
   "source": [
    "Jika menggunakan Xgboost, hasilnya lebih baik lagi terlihat peningkatan pada f1-score (1 : pengembalian barang) dengan nilai 0.68"
   ]
  },
  {
   "cell_type": "markdown",
   "id": "b054c006",
   "metadata": {},
   "source": [
    "# Menyimpan Model dan Memprediksi Data Baru"
   ]
  },
  {
   "cell_type": "markdown",
   "id": "d997dcf5",
   "metadata": {},
   "source": [
    "## Menyimpan Model"
   ]
  },
  {
   "cell_type": "code",
   "execution_count": 35,
   "id": "a3d5688e",
   "metadata": {},
   "outputs": [
    {
     "data": {
      "text/plain": [
       "['C:\\\\Users\\\\Lenovo\\\\datmin python\\\\xgboost_orders_train.joblib']"
      ]
     },
     "execution_count": 35,
     "metadata": {},
     "output_type": "execute_result"
    }
   ],
   "source": [
    "import joblib\n",
    "import pandas as pd\n",
    "joblib.dump(clf, \"C:\\\\Users\\\\Lenovo\\\\datmin python\\\\xgboost_orders_train.joblib\")"
   ]
  },
  {
   "cell_type": "markdown",
   "id": "8bb1b7f8",
   "metadata": {},
   "source": [
    "## Praproses Dataset orders_class.txt"
   ]
  },
  {
   "cell_type": "markdown",
   "id": "fae61692",
   "metadata": {},
   "source": [
    "Menjalankan praproses yang sama dengan praproses data train"
   ]
  },
  {
   "cell_type": "markdown",
   "id": "bcd6b83e",
   "metadata": {},
   "source": [
    "### Load Dataset"
   ]
  },
  {
   "cell_type": "code",
   "execution_count": 36,
   "id": "5511f997",
   "metadata": {},
   "outputs": [
    {
     "data": {
      "text/html": [
       "<div>\n",
       "<style scoped>\n",
       "    .dataframe tbody tr th:only-of-type {\n",
       "        vertical-align: middle;\n",
       "    }\n",
       "\n",
       "    .dataframe tbody tr th {\n",
       "        vertical-align: top;\n",
       "    }\n",
       "\n",
       "    .dataframe thead th {\n",
       "        text-align: right;\n",
       "    }\n",
       "</style>\n",
       "<table border=\"1\" class=\"dataframe\">\n",
       "  <thead>\n",
       "    <tr style=\"text-align: right;\">\n",
       "      <th></th>\n",
       "      <th>orderItemID</th>\n",
       "      <th>orderDate</th>\n",
       "      <th>deliveryDate</th>\n",
       "      <th>itemID</th>\n",
       "      <th>size</th>\n",
       "      <th>color</th>\n",
       "      <th>manufacturerID</th>\n",
       "      <th>price</th>\n",
       "      <th>customerID</th>\n",
       "      <th>salutation</th>\n",
       "      <th>dateOfBirth</th>\n",
       "      <th>state</th>\n",
       "      <th>creationDate</th>\n",
       "    </tr>\n",
       "  </thead>\n",
       "  <tbody>\n",
       "    <tr>\n",
       "      <th>0</th>\n",
       "      <td>1</td>\n",
       "      <td>2013-04-01</td>\n",
       "      <td>2013-04-03</td>\n",
       "      <td>2347</td>\n",
       "      <td>43</td>\n",
       "      <td>magenta</td>\n",
       "      <td>1</td>\n",
       "      <td>89.9</td>\n",
       "      <td>12489</td>\n",
       "      <td>Mrs</td>\n",
       "      <td>1963-04-26</td>\n",
       "      <td>Hesse</td>\n",
       "      <td>2012-04-23</td>\n",
       "    </tr>\n",
       "    <tr>\n",
       "      <th>1</th>\n",
       "      <td>2</td>\n",
       "      <td>2013-04-01</td>\n",
       "      <td>2013-04-03</td>\n",
       "      <td>2741</td>\n",
       "      <td>43</td>\n",
       "      <td>grey</td>\n",
       "      <td>1</td>\n",
       "      <td>99.9</td>\n",
       "      <td>12489</td>\n",
       "      <td>Mrs</td>\n",
       "      <td>1963-04-26</td>\n",
       "      <td>Hesse</td>\n",
       "      <td>2012-04-23</td>\n",
       "    </tr>\n",
       "    <tr>\n",
       "      <th>2</th>\n",
       "      <td>3</td>\n",
       "      <td>2013-04-01</td>\n",
       "      <td>2013-04-03</td>\n",
       "      <td>2514</td>\n",
       "      <td>9</td>\n",
       "      <td>ecru</td>\n",
       "      <td>19</td>\n",
       "      <td>79.9</td>\n",
       "      <td>12489</td>\n",
       "      <td>Mrs</td>\n",
       "      <td>1963-04-26</td>\n",
       "      <td>Hesse</td>\n",
       "      <td>2012-04-23</td>\n",
       "    </tr>\n",
       "    <tr>\n",
       "      <th>3</th>\n",
       "      <td>4</td>\n",
       "      <td>2013-04-01</td>\n",
       "      <td>2013-05-06</td>\n",
       "      <td>2347</td>\n",
       "      <td>42</td>\n",
       "      <td>brown</td>\n",
       "      <td>1</td>\n",
       "      <td>89.9</td>\n",
       "      <td>12489</td>\n",
       "      <td>Mrs</td>\n",
       "      <td>1963-04-26</td>\n",
       "      <td>Hesse</td>\n",
       "      <td>2012-04-23</td>\n",
       "    </tr>\n",
       "    <tr>\n",
       "      <th>4</th>\n",
       "      <td>5</td>\n",
       "      <td>2013-04-01</td>\n",
       "      <td>?</td>\n",
       "      <td>2690</td>\n",
       "      <td>43</td>\n",
       "      <td>grey</td>\n",
       "      <td>1</td>\n",
       "      <td>119.9</td>\n",
       "      <td>12489</td>\n",
       "      <td>Mrs</td>\n",
       "      <td>1963-04-26</td>\n",
       "      <td>Hesse</td>\n",
       "      <td>2012-04-23</td>\n",
       "    </tr>\n",
       "  </tbody>\n",
       "</table>\n",
       "</div>"
      ],
      "text/plain": [
       "   orderItemID   orderDate deliveryDate  itemID size    color  manufacturerID  \\\n",
       "0            1  2013-04-01   2013-04-03    2347   43  magenta               1   \n",
       "1            2  2013-04-01   2013-04-03    2741   43     grey               1   \n",
       "2            3  2013-04-01   2013-04-03    2514    9     ecru              19   \n",
       "3            4  2013-04-01   2013-05-06    2347   42    brown               1   \n",
       "4            5  2013-04-01            ?    2690   43     grey               1   \n",
       "\n",
       "   price  customerID salutation dateOfBirth  state creationDate  \n",
       "0   89.9       12489        Mrs  1963-04-26  Hesse   2012-04-23  \n",
       "1   99.9       12489        Mrs  1963-04-26  Hesse   2012-04-23  \n",
       "2   79.9       12489        Mrs  1963-04-26  Hesse   2012-04-23  \n",
       "3   89.9       12489        Mrs  1963-04-26  Hesse   2012-04-23  \n",
       "4  119.9       12489        Mrs  1963-04-26  Hesse   2012-04-23  "
      ]
     },
     "execution_count": 36,
     "metadata": {},
     "output_type": "execute_result"
    }
   ],
   "source": [
    "df = pd.read_csv(\"C:\\\\Users\\\\Lenovo\\\\datmin python\\\\orders_class.txt\", sep=';', encoding='utf-8')\n",
    "df.head()"
   ]
  },
  {
   "cell_type": "code",
   "execution_count": 37,
   "id": "98e6abcc",
   "metadata": {},
   "outputs": [
    {
     "name": "stdout",
     "output_type": "stream",
     "text": [
      "<class 'pandas.core.frame.DataFrame'>\n",
      "RangeIndex: 50078 entries, 0 to 50077\n",
      "Data columns (total 13 columns):\n",
      " #   Column          Non-Null Count  Dtype  \n",
      "---  ------          --------------  -----  \n",
      " 0   orderItemID     50078 non-null  int64  \n",
      " 1   orderDate       50078 non-null  object \n",
      " 2   deliveryDate    50078 non-null  object \n",
      " 3   itemID          50078 non-null  int64  \n",
      " 4   size            50078 non-null  object \n",
      " 5   color           50078 non-null  object \n",
      " 6   manufacturerID  50078 non-null  int64  \n",
      " 7   price           50078 non-null  float64\n",
      " 8   customerID      50078 non-null  int64  \n",
      " 9   salutation      50078 non-null  object \n",
      " 10  dateOfBirth     50078 non-null  object \n",
      " 11  state           50078 non-null  object \n",
      " 12  creationDate    50078 non-null  object \n",
      "dtypes: float64(1), int64(4), object(8)\n",
      "memory usage: 5.0+ MB\n"
     ]
    }
   ],
   "source": [
    "#menampilkan dataframe\n",
    "df.info()"
   ]
  },
  {
   "cell_type": "code",
   "execution_count": 38,
   "id": "27f0755e",
   "metadata": {},
   "outputs": [
    {
     "data": {
      "text/plain": [
       "orderItemID       0\n",
       "orderDate         0\n",
       "deliveryDate      0\n",
       "itemID            0\n",
       "size              0\n",
       "color             0\n",
       "manufacturerID    0\n",
       "price             0\n",
       "customerID        0\n",
       "salutation        0\n",
       "dateOfBirth       0\n",
       "state             0\n",
       "creationDate      0\n",
       "dtype: int64"
      ]
     },
     "execution_count": 38,
     "metadata": {},
     "output_type": "execute_result"
    }
   ],
   "source": [
    "#melihat apakah terdapat value null dalam suatu atribut\n",
    "df.isnull().sum()"
   ]
  },
  {
   "cell_type": "markdown",
   "id": "8ecce722",
   "metadata": {},
   "source": [
    "### Cek Setiap Kolom yang Memiliki Value '?'"
   ]
  },
  {
   "cell_type": "code",
   "execution_count": 39,
   "id": "0d435b39",
   "metadata": {},
   "outputs": [
    {
     "data": {
      "text/html": [
       "<div>\n",
       "<style scoped>\n",
       "    .dataframe tbody tr th:only-of-type {\n",
       "        vertical-align: middle;\n",
       "    }\n",
       "\n",
       "    .dataframe tbody tr th {\n",
       "        vertical-align: top;\n",
       "    }\n",
       "\n",
       "    .dataframe thead th {\n",
       "        text-align: right;\n",
       "    }\n",
       "</style>\n",
       "<table border=\"1\" class=\"dataframe\">\n",
       "  <thead>\n",
       "    <tr style=\"text-align: right;\">\n",
       "      <th></th>\n",
       "      <th>orderItemID</th>\n",
       "      <th>orderDate</th>\n",
       "      <th>deliveryDate</th>\n",
       "      <th>itemID</th>\n",
       "      <th>size</th>\n",
       "      <th>color</th>\n",
       "      <th>manufacturerID</th>\n",
       "      <th>price</th>\n",
       "      <th>customerID</th>\n",
       "      <th>salutation</th>\n",
       "      <th>dateOfBirth</th>\n",
       "      <th>state</th>\n",
       "      <th>creationDate</th>\n",
       "    </tr>\n",
       "  </thead>\n",
       "  <tbody>\n",
       "  </tbody>\n",
       "</table>\n",
       "</div>"
      ],
      "text/plain": [
       "Empty DataFrame\n",
       "Columns: [orderItemID, orderDate, deliveryDate, itemID, size, color, manufacturerID, price, customerID, salutation, dateOfBirth, state, creationDate]\n",
       "Index: []"
      ]
     },
     "execution_count": 39,
     "metadata": {},
     "output_type": "execute_result"
    }
   ],
   "source": [
    "#buat variabel baru berupa kolom1, kolom2, dan kolom3 untuk menyimpan hasil kolom yang memiliki value '?'\n",
    "kolom1 = df[df['color'] == '?'] \n",
    "kolom2 = df[df['deliveryDate'] == '?'] \n",
    "kolom3 = df[df['dateOfBirth'] == '?'] \n",
    "\n",
    "# command untuk menampilkan tabel \n",
    "kolom1\n",
    "# kolom2\n",
    "# kolom3"
   ]
  },
  {
   "cell_type": "markdown",
   "id": "6db42af4",
   "metadata": {},
   "source": [
    "Tabel di atas tidak memiliki data dikarenakan kolom 'color' dalam dataset order_class tidak memiliki value '?'"
   ]
  },
  {
   "cell_type": "markdown",
   "id": "80a46a24",
   "metadata": {},
   "source": [
    "### Menyimpan dan Menampilkan Nilai Modus Kolom 'color', 'deliveryDate', dan 'dateOfBirth'"
   ]
  },
  {
   "cell_type": "code",
   "execution_count": 40,
   "id": "c5067fa5",
   "metadata": {},
   "outputs": [],
   "source": [
    "#buat variabel untuk menyimpan modus\n",
    "modus_color = df['color'].mode()\n",
    "modus_del_date = df['deliveryDate'].mode()\n",
    "modus_birth = df['dateOfBirth'].mode()"
   ]
  },
  {
   "cell_type": "code",
   "execution_count": 41,
   "id": "e66d3f98",
   "metadata": {
    "scrolled": true
   },
   "outputs": [
    {
     "name": "stdout",
     "output_type": "stream",
     "text": [
      "0    black\n",
      "Name: color, dtype: object\n",
      "0    ?\n",
      "Name: deliveryDate, dtype: object\n",
      "0    ?\n",
      "Name: dateOfBirth, dtype: object\n"
     ]
    }
   ],
   "source": [
    "#menampilkan modus\n",
    "print(modus_color)\n",
    "print(modus_del_date)\n",
    "print(modus_birth)"
   ]
  },
  {
   "cell_type": "markdown",
   "id": "f5440728",
   "metadata": {},
   "source": [
    "Kolom 'color' memiliki nilai modus 'black'. Sedangkan kolom 'deliveryDate' dan 'dateOfBirth' memiliki nilai modus '?'"
   ]
  },
  {
   "cell_type": "code",
   "execution_count": 42,
   "id": "912cecdd",
   "metadata": {},
   "outputs": [
    {
     "name": "stderr",
     "output_type": "stream",
     "text": [
      "C:\\Users\\Lenovo\\AppData\\Local\\Temp\\ipykernel_14556\\2010316146.py:2: FutureWarning: The default value of regex will change from True to False in a future version. In addition, single character regular expressions will *not* be treated as literal strings when regex=True.\n",
      "  df.color = df.color.str.replace('?', 'String color')\n",
      "C:\\Users\\Lenovo\\AppData\\Local\\Temp\\ipykernel_14556\\2010316146.py:3: FutureWarning: The default value of regex will change from True to False in a future version. In addition, single character regular expressions will *not* be treated as literal strings when regex=True.\n",
      "  df.dateOfBirth = df.deliveryDate.str.replace('?', 'String delivery')\n",
      "C:\\Users\\Lenovo\\AppData\\Local\\Temp\\ipykernel_14556\\2010316146.py:4: FutureWarning: The default value of regex will change from True to False in a future version. In addition, single character regular expressions will *not* be treated as literal strings when regex=True.\n",
      "  df.deliveryDate = df.dateOfBirth.str.replace('?', 'String birthDate')\n"
     ]
    }
   ],
   "source": [
    "#Replace Karakter '?' Menjadi String Menggunakan Pandas\n",
    "df.color = df.color.str.replace('?', 'String color')\n",
    "df.dateOfBirth = df.deliveryDate.str.replace('?', 'String delivery')\n",
    "df.deliveryDate = df.dateOfBirth.str.replace('?', 'String birthDate')"
   ]
  },
  {
   "cell_type": "code",
   "execution_count": 43,
   "id": "61b889ba",
   "metadata": {},
   "outputs": [
    {
     "data": {
      "text/html": [
       "<div>\n",
       "<style scoped>\n",
       "    .dataframe tbody tr th:only-of-type {\n",
       "        vertical-align: middle;\n",
       "    }\n",
       "\n",
       "    .dataframe tbody tr th {\n",
       "        vertical-align: top;\n",
       "    }\n",
       "\n",
       "    .dataframe thead th {\n",
       "        text-align: right;\n",
       "    }\n",
       "</style>\n",
       "<table border=\"1\" class=\"dataframe\">\n",
       "  <thead>\n",
       "    <tr style=\"text-align: right;\">\n",
       "      <th></th>\n",
       "      <th>orderItemID</th>\n",
       "      <th>orderDate</th>\n",
       "      <th>deliveryDate</th>\n",
       "      <th>itemID</th>\n",
       "      <th>size</th>\n",
       "      <th>color</th>\n",
       "      <th>manufacturerID</th>\n",
       "      <th>price</th>\n",
       "      <th>customerID</th>\n",
       "      <th>salutation</th>\n",
       "      <th>dateOfBirth</th>\n",
       "      <th>state</th>\n",
       "      <th>creationDate</th>\n",
       "    </tr>\n",
       "  </thead>\n",
       "  <tbody>\n",
       "    <tr>\n",
       "      <th>0</th>\n",
       "      <td>1</td>\n",
       "      <td>2013-04-01</td>\n",
       "      <td>2013-04-03</td>\n",
       "      <td>2347</td>\n",
       "      <td>43</td>\n",
       "      <td>magenta</td>\n",
       "      <td>1</td>\n",
       "      <td>89.9</td>\n",
       "      <td>12489</td>\n",
       "      <td>Mrs</td>\n",
       "      <td>2013-04-03</td>\n",
       "      <td>Hesse</td>\n",
       "      <td>2012-04-23</td>\n",
       "    </tr>\n",
       "    <tr>\n",
       "      <th>1</th>\n",
       "      <td>2</td>\n",
       "      <td>2013-04-01</td>\n",
       "      <td>2013-04-03</td>\n",
       "      <td>2741</td>\n",
       "      <td>43</td>\n",
       "      <td>grey</td>\n",
       "      <td>1</td>\n",
       "      <td>99.9</td>\n",
       "      <td>12489</td>\n",
       "      <td>Mrs</td>\n",
       "      <td>2013-04-03</td>\n",
       "      <td>Hesse</td>\n",
       "      <td>2012-04-23</td>\n",
       "    </tr>\n",
       "    <tr>\n",
       "      <th>2</th>\n",
       "      <td>3</td>\n",
       "      <td>2013-04-01</td>\n",
       "      <td>2013-04-03</td>\n",
       "      <td>2514</td>\n",
       "      <td>9</td>\n",
       "      <td>ecru</td>\n",
       "      <td>19</td>\n",
       "      <td>79.9</td>\n",
       "      <td>12489</td>\n",
       "      <td>Mrs</td>\n",
       "      <td>2013-04-03</td>\n",
       "      <td>Hesse</td>\n",
       "      <td>2012-04-23</td>\n",
       "    </tr>\n",
       "    <tr>\n",
       "      <th>3</th>\n",
       "      <td>4</td>\n",
       "      <td>2013-04-01</td>\n",
       "      <td>2013-05-06</td>\n",
       "      <td>2347</td>\n",
       "      <td>42</td>\n",
       "      <td>brown</td>\n",
       "      <td>1</td>\n",
       "      <td>89.9</td>\n",
       "      <td>12489</td>\n",
       "      <td>Mrs</td>\n",
       "      <td>2013-05-06</td>\n",
       "      <td>Hesse</td>\n",
       "      <td>2012-04-23</td>\n",
       "    </tr>\n",
       "    <tr>\n",
       "      <th>4</th>\n",
       "      <td>5</td>\n",
       "      <td>2013-04-01</td>\n",
       "      <td>String delivery</td>\n",
       "      <td>2690</td>\n",
       "      <td>43</td>\n",
       "      <td>grey</td>\n",
       "      <td>1</td>\n",
       "      <td>119.9</td>\n",
       "      <td>12489</td>\n",
       "      <td>Mrs</td>\n",
       "      <td>String delivery</td>\n",
       "      <td>Hesse</td>\n",
       "      <td>2012-04-23</td>\n",
       "    </tr>\n",
       "  </tbody>\n",
       "</table>\n",
       "</div>"
      ],
      "text/plain": [
       "   orderItemID   orderDate     deliveryDate  itemID size    color  \\\n",
       "0            1  2013-04-01       2013-04-03    2347   43  magenta   \n",
       "1            2  2013-04-01       2013-04-03    2741   43     grey   \n",
       "2            3  2013-04-01       2013-04-03    2514    9     ecru   \n",
       "3            4  2013-04-01       2013-05-06    2347   42    brown   \n",
       "4            5  2013-04-01  String delivery    2690   43     grey   \n",
       "\n",
       "   manufacturerID  price  customerID salutation      dateOfBirth  state  \\\n",
       "0               1   89.9       12489        Mrs       2013-04-03  Hesse   \n",
       "1               1   99.9       12489        Mrs       2013-04-03  Hesse   \n",
       "2              19   79.9       12489        Mrs       2013-04-03  Hesse   \n",
       "3               1   89.9       12489        Mrs       2013-05-06  Hesse   \n",
       "4               1  119.9       12489        Mrs  String delivery  Hesse   \n",
       "\n",
       "  creationDate  \n",
       "0   2012-04-23  \n",
       "1   2012-04-23  \n",
       "2   2012-04-23  \n",
       "3   2012-04-23  \n",
       "4   2012-04-23  "
      ]
     },
     "execution_count": 43,
     "metadata": {},
     "output_type": "execute_result"
    }
   ],
   "source": [
    "#menampilkan data teratas\n",
    "df.head()"
   ]
  },
  {
   "cell_type": "markdown",
   "id": "239b3376",
   "metadata": {},
   "source": [
    "### Hapus Data '?' pada Kolom 'dateOfBirth' dan 'deliveryDate'"
   ]
  },
  {
   "cell_type": "code",
   "execution_count": 44,
   "id": "d51c971d",
   "metadata": {},
   "outputs": [
    {
     "name": "stdout",
     "output_type": "stream",
     "text": [
      "<class 'pandas.core.frame.DataFrame'>\n",
      "Int64Index: 45810 entries, 0 to 50075\n",
      "Data columns (total 13 columns):\n",
      " #   Column          Non-Null Count  Dtype  \n",
      "---  ------          --------------  -----  \n",
      " 0   orderItemID     45810 non-null  int64  \n",
      " 1   orderDate       45810 non-null  object \n",
      " 2   deliveryDate    45810 non-null  object \n",
      " 3   itemID          45810 non-null  int64  \n",
      " 4   size            45810 non-null  object \n",
      " 5   color           45810 non-null  object \n",
      " 6   manufacturerID  45810 non-null  int64  \n",
      " 7   price           45810 non-null  float64\n",
      " 8   customerID      45810 non-null  int64  \n",
      " 9   salutation      45810 non-null  object \n",
      " 10  dateOfBirth     45810 non-null  object \n",
      " 11  state           45810 non-null  object \n",
      " 12  creationDate    45810 non-null  object \n",
      "dtypes: float64(1), int64(4), object(8)\n",
      "memory usage: 4.9+ MB\n"
     ]
    }
   ],
   "source": [
    "# membuang data yang telah dispesifikasikan aka string delivery & string birthDate\n",
    "df = df[df['deliveryDate'].str.contains('String delivery') == False]\n",
    "df = df[df['dateOfBirth'].str.contains('String birthDate') == False]\n",
    "df.info()"
   ]
  },
  {
   "cell_type": "code",
   "execution_count": 45,
   "id": "3d22f6d6",
   "metadata": {},
   "outputs": [],
   "source": [
    "#Replace Kolom 'color' dengan Nilai Modus\n",
    "df.color = df.color.str.replace('String color', 'black') #ganti kolom 'color' dengan black"
   ]
  },
  {
   "cell_type": "code",
   "execution_count": 46,
   "id": "54540b70",
   "metadata": {},
   "outputs": [
    {
     "data": {
      "text/html": [
       "<div>\n",
       "<style scoped>\n",
       "    .dataframe tbody tr th:only-of-type {\n",
       "        vertical-align: middle;\n",
       "    }\n",
       "\n",
       "    .dataframe tbody tr th {\n",
       "        vertical-align: top;\n",
       "    }\n",
       "\n",
       "    .dataframe thead th {\n",
       "        text-align: right;\n",
       "    }\n",
       "</style>\n",
       "<table border=\"1\" class=\"dataframe\">\n",
       "  <thead>\n",
       "    <tr style=\"text-align: right;\">\n",
       "      <th></th>\n",
       "      <th>orderItemID</th>\n",
       "      <th>orderDate</th>\n",
       "      <th>deliveryDate</th>\n",
       "      <th>itemID</th>\n",
       "      <th>size</th>\n",
       "      <th>color</th>\n",
       "      <th>manufacturerID</th>\n",
       "      <th>price</th>\n",
       "      <th>customerID</th>\n",
       "      <th>salutation</th>\n",
       "      <th>dateOfBirth</th>\n",
       "      <th>state</th>\n",
       "      <th>creationDate</th>\n",
       "    </tr>\n",
       "  </thead>\n",
       "  <tbody>\n",
       "    <tr>\n",
       "      <th>0</th>\n",
       "      <td>1</td>\n",
       "      <td>2013-04-01</td>\n",
       "      <td>2013-04-03</td>\n",
       "      <td>2347</td>\n",
       "      <td>43</td>\n",
       "      <td>magenta</td>\n",
       "      <td>1</td>\n",
       "      <td>89.9</td>\n",
       "      <td>12489</td>\n",
       "      <td>Mrs</td>\n",
       "      <td>2013-04-03</td>\n",
       "      <td>Hesse</td>\n",
       "      <td>2012-04-23</td>\n",
       "    </tr>\n",
       "    <tr>\n",
       "      <th>1</th>\n",
       "      <td>2</td>\n",
       "      <td>2013-04-01</td>\n",
       "      <td>2013-04-03</td>\n",
       "      <td>2741</td>\n",
       "      <td>43</td>\n",
       "      <td>grey</td>\n",
       "      <td>1</td>\n",
       "      <td>99.9</td>\n",
       "      <td>12489</td>\n",
       "      <td>Mrs</td>\n",
       "      <td>2013-04-03</td>\n",
       "      <td>Hesse</td>\n",
       "      <td>2012-04-23</td>\n",
       "    </tr>\n",
       "    <tr>\n",
       "      <th>2</th>\n",
       "      <td>3</td>\n",
       "      <td>2013-04-01</td>\n",
       "      <td>2013-04-03</td>\n",
       "      <td>2514</td>\n",
       "      <td>9</td>\n",
       "      <td>ecru</td>\n",
       "      <td>19</td>\n",
       "      <td>79.9</td>\n",
       "      <td>12489</td>\n",
       "      <td>Mrs</td>\n",
       "      <td>2013-04-03</td>\n",
       "      <td>Hesse</td>\n",
       "      <td>2012-04-23</td>\n",
       "    </tr>\n",
       "    <tr>\n",
       "      <th>3</th>\n",
       "      <td>4</td>\n",
       "      <td>2013-04-01</td>\n",
       "      <td>2013-05-06</td>\n",
       "      <td>2347</td>\n",
       "      <td>42</td>\n",
       "      <td>brown</td>\n",
       "      <td>1</td>\n",
       "      <td>89.9</td>\n",
       "      <td>12489</td>\n",
       "      <td>Mrs</td>\n",
       "      <td>2013-05-06</td>\n",
       "      <td>Hesse</td>\n",
       "      <td>2012-04-23</td>\n",
       "    </tr>\n",
       "    <tr>\n",
       "      <th>5</th>\n",
       "      <td>6</td>\n",
       "      <td>2013-04-01</td>\n",
       "      <td>2013-04-02</td>\n",
       "      <td>2318</td>\n",
       "      <td>41</td>\n",
       "      <td>blue</td>\n",
       "      <td>1</td>\n",
       "      <td>89.9</td>\n",
       "      <td>3649</td>\n",
       "      <td>Mrs</td>\n",
       "      <td>2013-04-02</td>\n",
       "      <td>Hesse</td>\n",
       "      <td>2013-04-01</td>\n",
       "    </tr>\n",
       "    <tr>\n",
       "      <th>...</th>\n",
       "      <td>...</td>\n",
       "      <td>...</td>\n",
       "      <td>...</td>\n",
       "      <td>...</td>\n",
       "      <td>...</td>\n",
       "      <td>...</td>\n",
       "      <td>...</td>\n",
       "      <td>...</td>\n",
       "      <td>...</td>\n",
       "      <td>...</td>\n",
       "      <td>...</td>\n",
       "      <td>...</td>\n",
       "      <td>...</td>\n",
       "    </tr>\n",
       "    <tr>\n",
       "      <th>50071</th>\n",
       "      <td>50072</td>\n",
       "      <td>2013-04-29</td>\n",
       "      <td>2013-05-03</td>\n",
       "      <td>2547</td>\n",
       "      <td>38</td>\n",
       "      <td>ocher</td>\n",
       "      <td>6</td>\n",
       "      <td>79.9</td>\n",
       "      <td>91920</td>\n",
       "      <td>Mrs</td>\n",
       "      <td>2013-05-03</td>\n",
       "      <td>Bavaria</td>\n",
       "      <td>2013-04-29</td>\n",
       "    </tr>\n",
       "    <tr>\n",
       "      <th>50072</th>\n",
       "      <td>50073</td>\n",
       "      <td>2013-04-29</td>\n",
       "      <td>2013-05-03</td>\n",
       "      <td>2470</td>\n",
       "      <td>M</td>\n",
       "      <td>white</td>\n",
       "      <td>5</td>\n",
       "      <td>79.9</td>\n",
       "      <td>91920</td>\n",
       "      <td>Mrs</td>\n",
       "      <td>2013-05-03</td>\n",
       "      <td>Bavaria</td>\n",
       "      <td>2013-04-29</td>\n",
       "    </tr>\n",
       "    <tr>\n",
       "      <th>50073</th>\n",
       "      <td>50074</td>\n",
       "      <td>2013-04-29</td>\n",
       "      <td>2013-05-03</td>\n",
       "      <td>2342</td>\n",
       "      <td>M</td>\n",
       "      <td>terracotta</td>\n",
       "      <td>5</td>\n",
       "      <td>69.9</td>\n",
       "      <td>91920</td>\n",
       "      <td>Mrs</td>\n",
       "      <td>2013-05-03</td>\n",
       "      <td>Bavaria</td>\n",
       "      <td>2013-04-29</td>\n",
       "    </tr>\n",
       "    <tr>\n",
       "      <th>50074</th>\n",
       "      <td>50075</td>\n",
       "      <td>2013-04-29</td>\n",
       "      <td>2013-05-03</td>\n",
       "      <td>2505</td>\n",
       "      <td>M</td>\n",
       "      <td>terracotta</td>\n",
       "      <td>5</td>\n",
       "      <td>64.9</td>\n",
       "      <td>91920</td>\n",
       "      <td>Mrs</td>\n",
       "      <td>2013-05-03</td>\n",
       "      <td>Bavaria</td>\n",
       "      <td>2013-04-29</td>\n",
       "    </tr>\n",
       "    <tr>\n",
       "      <th>50075</th>\n",
       "      <td>50076</td>\n",
       "      <td>2013-04-28</td>\n",
       "      <td>2013-05-02</td>\n",
       "      <td>2470</td>\n",
       "      <td>XL</td>\n",
       "      <td>white</td>\n",
       "      <td>5</td>\n",
       "      <td>79.9</td>\n",
       "      <td>85095</td>\n",
       "      <td>Mrs</td>\n",
       "      <td>2013-05-02</td>\n",
       "      <td>Berlin</td>\n",
       "      <td>2013-03-24</td>\n",
       "    </tr>\n",
       "  </tbody>\n",
       "</table>\n",
       "<p>45810 rows × 13 columns</p>\n",
       "</div>"
      ],
      "text/plain": [
       "       orderItemID   orderDate deliveryDate  itemID size       color  \\\n",
       "0                1  2013-04-01   2013-04-03    2347   43     magenta   \n",
       "1                2  2013-04-01   2013-04-03    2741   43        grey   \n",
       "2                3  2013-04-01   2013-04-03    2514    9        ecru   \n",
       "3                4  2013-04-01   2013-05-06    2347   42       brown   \n",
       "5                6  2013-04-01   2013-04-02    2318   41        blue   \n",
       "...            ...         ...          ...     ...  ...         ...   \n",
       "50071        50072  2013-04-29   2013-05-03    2547   38       ocher   \n",
       "50072        50073  2013-04-29   2013-05-03    2470    M       white   \n",
       "50073        50074  2013-04-29   2013-05-03    2342    M  terracotta   \n",
       "50074        50075  2013-04-29   2013-05-03    2505    M  terracotta   \n",
       "50075        50076  2013-04-28   2013-05-02    2470   XL       white   \n",
       "\n",
       "       manufacturerID  price  customerID salutation dateOfBirth    state  \\\n",
       "0                   1   89.9       12489        Mrs  2013-04-03    Hesse   \n",
       "1                   1   99.9       12489        Mrs  2013-04-03    Hesse   \n",
       "2                  19   79.9       12489        Mrs  2013-04-03    Hesse   \n",
       "3                   1   89.9       12489        Mrs  2013-05-06    Hesse   \n",
       "5                   1   89.9        3649        Mrs  2013-04-02    Hesse   \n",
       "...               ...    ...         ...        ...         ...      ...   \n",
       "50071               6   79.9       91920        Mrs  2013-05-03  Bavaria   \n",
       "50072               5   79.9       91920        Mrs  2013-05-03  Bavaria   \n",
       "50073               5   69.9       91920        Mrs  2013-05-03  Bavaria   \n",
       "50074               5   64.9       91920        Mrs  2013-05-03  Bavaria   \n",
       "50075               5   79.9       85095        Mrs  2013-05-02   Berlin   \n",
       "\n",
       "      creationDate  \n",
       "0       2012-04-23  \n",
       "1       2012-04-23  \n",
       "2       2012-04-23  \n",
       "3       2012-04-23  \n",
       "5       2013-04-01  \n",
       "...            ...  \n",
       "50071   2013-04-29  \n",
       "50072   2013-04-29  \n",
       "50073   2013-04-29  \n",
       "50074   2013-04-29  \n",
       "50075   2013-03-24  \n",
       "\n",
       "[45810 rows x 13 columns]"
      ]
     },
     "execution_count": 46,
     "metadata": {},
     "output_type": "execute_result"
    }
   ],
   "source": [
    "#menampilkan data 270 ribuan\n",
    "df.head(270915)"
   ]
  },
  {
   "cell_type": "code",
   "execution_count": 47,
   "id": "a880a0d2",
   "metadata": {},
   "outputs": [
    {
     "data": {
      "text/html": [
       "<div>\n",
       "<style scoped>\n",
       "    .dataframe tbody tr th:only-of-type {\n",
       "        vertical-align: middle;\n",
       "    }\n",
       "\n",
       "    .dataframe tbody tr th {\n",
       "        vertical-align: top;\n",
       "    }\n",
       "\n",
       "    .dataframe thead th {\n",
       "        text-align: right;\n",
       "    }\n",
       "</style>\n",
       "<table border=\"1\" class=\"dataframe\">\n",
       "  <thead>\n",
       "    <tr style=\"text-align: right;\">\n",
       "      <th></th>\n",
       "      <th>orderItemID</th>\n",
       "      <th>itemID</th>\n",
       "      <th>manufacturerID</th>\n",
       "      <th>price</th>\n",
       "      <th>customerID</th>\n",
       "    </tr>\n",
       "  </thead>\n",
       "  <tbody>\n",
       "    <tr>\n",
       "      <th>0</th>\n",
       "      <td>1</td>\n",
       "      <td>2347</td>\n",
       "      <td>1</td>\n",
       "      <td>89.9</td>\n",
       "      <td>12489</td>\n",
       "    </tr>\n",
       "    <tr>\n",
       "      <th>1</th>\n",
       "      <td>2</td>\n",
       "      <td>2741</td>\n",
       "      <td>1</td>\n",
       "      <td>99.9</td>\n",
       "      <td>12489</td>\n",
       "    </tr>\n",
       "    <tr>\n",
       "      <th>2</th>\n",
       "      <td>3</td>\n",
       "      <td>2514</td>\n",
       "      <td>19</td>\n",
       "      <td>79.9</td>\n",
       "      <td>12489</td>\n",
       "    </tr>\n",
       "    <tr>\n",
       "      <th>3</th>\n",
       "      <td>4</td>\n",
       "      <td>2347</td>\n",
       "      <td>1</td>\n",
       "      <td>89.9</td>\n",
       "      <td>12489</td>\n",
       "    </tr>\n",
       "    <tr>\n",
       "      <th>5</th>\n",
       "      <td>6</td>\n",
       "      <td>2318</td>\n",
       "      <td>1</td>\n",
       "      <td>89.9</td>\n",
       "      <td>3649</td>\n",
       "    </tr>\n",
       "  </tbody>\n",
       "</table>\n",
       "</div>"
      ],
      "text/plain": [
       "   orderItemID  itemID  manufacturerID  price  customerID\n",
       "0            1    2347               1   89.9       12489\n",
       "1            2    2741               1   99.9       12489\n",
       "2            3    2514              19   79.9       12489\n",
       "3            4    2347               1   89.9       12489\n",
       "5            6    2318               1   89.9        3649"
      ]
     },
     "execution_count": 47,
     "metadata": {},
     "output_type": "execute_result"
    }
   ],
   "source": [
    "# Menghapus kolom yang terdapat tipe data string, agar dapat dibuat modelnya dengan naive bayes\n",
    "df = df.drop(columns=['color', 'salutation', 'state', 'orderDate', \n",
    "                        'deliveryDate', 'dateOfBirth', 'creationDate', 'size'])\n",
    "\n",
    "df.head()"
   ]
  },
  {
   "cell_type": "code",
   "execution_count": 48,
   "id": "24fb2dfa",
   "metadata": {},
   "outputs": [
    {
     "data": {
      "text/html": [
       "<div>\n",
       "<style scoped>\n",
       "    .dataframe tbody tr th:only-of-type {\n",
       "        vertical-align: middle;\n",
       "    }\n",
       "\n",
       "    .dataframe tbody tr th {\n",
       "        vertical-align: top;\n",
       "    }\n",
       "\n",
       "    .dataframe thead th {\n",
       "        text-align: right;\n",
       "    }\n",
       "</style>\n",
       "<table border=\"1\" class=\"dataframe\">\n",
       "  <thead>\n",
       "    <tr style=\"text-align: right;\">\n",
       "      <th></th>\n",
       "      <th>orderItemID</th>\n",
       "      <th>itemID</th>\n",
       "      <th>manufacturerID</th>\n",
       "      <th>price</th>\n",
       "      <th>customerID</th>\n",
       "    </tr>\n",
       "  </thead>\n",
       "  <tbody>\n",
       "    <tr>\n",
       "      <th>0</th>\n",
       "      <td>1</td>\n",
       "      <td>2347</td>\n",
       "      <td>1</td>\n",
       "      <td>89.9</td>\n",
       "      <td>12489</td>\n",
       "    </tr>\n",
       "    <tr>\n",
       "      <th>1</th>\n",
       "      <td>2</td>\n",
       "      <td>2741</td>\n",
       "      <td>1</td>\n",
       "      <td>99.9</td>\n",
       "      <td>12489</td>\n",
       "    </tr>\n",
       "    <tr>\n",
       "      <th>2</th>\n",
       "      <td>3</td>\n",
       "      <td>2514</td>\n",
       "      <td>19</td>\n",
       "      <td>79.9</td>\n",
       "      <td>12489</td>\n",
       "    </tr>\n",
       "    <tr>\n",
       "      <th>3</th>\n",
       "      <td>4</td>\n",
       "      <td>2347</td>\n",
       "      <td>1</td>\n",
       "      <td>89.9</td>\n",
       "      <td>12489</td>\n",
       "    </tr>\n",
       "    <tr>\n",
       "      <th>5</th>\n",
       "      <td>6</td>\n",
       "      <td>2318</td>\n",
       "      <td>1</td>\n",
       "      <td>89.9</td>\n",
       "      <td>3649</td>\n",
       "    </tr>\n",
       "  </tbody>\n",
       "</table>\n",
       "</div>"
      ],
      "text/plain": [
       "   orderItemID  itemID  manufacturerID  price  customerID\n",
       "0            1    2347               1   89.9       12489\n",
       "1            2    2741               1   99.9       12489\n",
       "2            3    2514              19   79.9       12489\n",
       "3            4    2347               1   89.9       12489\n",
       "5            6    2318               1   89.9        3649"
      ]
     },
     "execution_count": 48,
     "metadata": {},
     "output_type": "execute_result"
    }
   ],
   "source": [
    "df.head()"
   ]
  },
  {
   "cell_type": "markdown",
   "id": "c5450730",
   "metadata": {},
   "source": [
    "## Prediksi"
   ]
  },
  {
   "cell_type": "markdown",
   "id": "be025431",
   "metadata": {},
   "source": [
    "Menyimpan data order class yang akan digunakan untuk prediksi dalam bentuk pickle, catatan : wb = menulis data "
   ]
  },
  {
   "cell_type": "code",
   "execution_count": 49,
   "id": "c7b00ac4",
   "metadata": {},
   "outputs": [],
   "source": [
    "with open('C:\\\\Users\\\\Lenovo\\\\datmin python\\\\order_class_prediction.pickle', 'wb') as fp:\n",
    "    pickle.dump(df.columns, fp)"
   ]
  },
  {
   "cell_type": "markdown",
   "id": "d2d8c8f7",
   "metadata": {},
   "source": [
    "Proses membuka model dalam bentuk file pickle, catatan : rb = membaca data"
   ]
  },
  {
   "cell_type": "code",
   "execution_count": 50,
   "id": "4c693882",
   "metadata": {},
   "outputs": [],
   "source": [
    "with open ('C:\\\\Users\\\\Lenovo\\\\datmin python\\\\order_class_prediction.pickle', 'rb') as fp:\n",
    "    X_train_column = list(pickle.load(fp))\n",
    "\n",
    "df_prediksi = df[X_train_column]"
   ]
  },
  {
   "cell_type": "markdown",
   "id": "be8cc2d2",
   "metadata": {},
   "source": [
    "Kemudian, simpan model ke dalam variabel yang bernama clf lakukan prediksi menggunakan fungsi predict dengan parameter yaitu dataframe yang akan diprediksi lalu hasilnya akan disimpan dalam variabel yang bernama hasil_prediksi."
   ]
  },
  {
   "cell_type": "code",
   "execution_count": 51,
   "id": "a6ad20c8",
   "metadata": {},
   "outputs": [],
   "source": [
    "clf = joblib.load(\"C:\\\\Users\\\\Lenovo\\\\datmin python\\\\xgboost_orders_train.joblib\")\n",
    "hasil_prediksi = clf.predict(df_prediksi)\n",
    "\n",
    "#menyimpan hasil prediksi ke dalam .csv\n",
    "data_hasil_prediksi = pd.DataFrame(hasil_prediksi)\n",
    "data_hasil_prediksi.head()\n",
    "\n",
    "data_hasil_prediksi.to_csv('hasil_prediksi.csv', index=False)"
   ]
  },
  {
   "cell_type": "code",
   "execution_count": 52,
   "id": "ba31ab69",
   "metadata": {},
   "outputs": [
    {
     "data": {
      "text/plain": [
       "array([1, 1, 1, ..., 1, 1, 1], dtype=int64)"
      ]
     },
     "execution_count": 52,
     "metadata": {},
     "output_type": "execute_result"
    }
   ],
   "source": [
    "#menampilkan output \n",
    "hasil_prediksi"
   ]
  }
 ],
 "metadata": {
  "kernelspec": {
   "display_name": "Python 3 (ipykernel)",
   "language": "python",
   "name": "python3"
  },
  "language_info": {
   "codemirror_mode": {
    "name": "ipython",
    "version": 3
   },
   "file_extension": ".py",
   "mimetype": "text/x-python",
   "name": "python",
   "nbconvert_exporter": "python",
   "pygments_lexer": "ipython3",
   "version": "3.9.12"
  }
 },
 "nbformat": 4,
 "nbformat_minor": 5
}
